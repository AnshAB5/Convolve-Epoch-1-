{
 "cells": [
  {
   "cell_type": "code",
   "execution_count": 1,
   "id": "a3c41a89",
   "metadata": {
    "_cell_guid": "b1076dfc-b9ad-4769-8c92-a6c4dae69d19",
    "_uuid": "8f2839f25d086af736a60e9eeb907d3b93b6e0e5",
    "execution": {
     "iopub.execute_input": "2022-12-19T08:23:14.256951Z",
     "iopub.status.busy": "2022-12-19T08:23:14.256511Z",
     "iopub.status.idle": "2022-12-19T08:23:14.277720Z",
     "shell.execute_reply": "2022-12-19T08:23:14.276525Z"
    },
    "papermill": {
     "duration": 0.037978,
     "end_time": "2022-12-19T08:23:14.280305",
     "exception": false,
     "start_time": "2022-12-19T08:23:14.242327",
     "status": "completed"
    },
    "tags": []
   },
   "outputs": [
    {
     "name": "stdout",
     "output_type": "stream",
     "text": [
      "/kaggle/input/convolve-epoch1/sample_submission.csv\n",
      "/kaggle/input/convolve-epoch1/train.json\n",
      "/kaggle/input/convolve-epoch1/test.csv\n",
      "/kaggle/input/glove-global-vectors-for-word-representation/glove.6B.200d.txt\n",
      "/kaggle/input/glove-global-vectors-for-word-representation/glove.6B.50d.txt\n",
      "/kaggle/input/glove-global-vectors-for-word-representation/glove.6B.100d.txt\n"
     ]
    }
   ],
   "source": [
    "# This Python 3 environment comes with many helpful analytics libraries installed\n",
    "# It is defined by the kaggle/python Docker image: https://github.com/kaggle/docker-python\n",
    "# For example, here's several helpful packages to load\n",
    "\n",
    "import numpy as np # linear algebra\n",
    "import pandas as pd # data processing, CSV file I/O (e.g. pd.read_csv)\n",
    "\n",
    "# Input data files are available in the read-only \"../input/\" directory\n",
    "# For example, running this (by clicking run or pressing Shift+Enter) will list all files under the input directory\n",
    "\n",
    "import os\n",
    "for dirname, _, filenames in os.walk('/kaggle/input'):\n",
    "    for filename in filenames:\n",
    "        print(os.path.join(dirname, filename))\n",
    "\n",
    "# You can write up to 20GB to the current directory (/kaggle/working/) that gets preserved as output when you create a version using \"Save & Run All\" \n",
    "# You can also write temporary files to /kaggle/temp/, but they won't be saved outside of the current session"
   ]
  },
  {
   "cell_type": "code",
   "execution_count": 2,
   "id": "7c34469c",
   "metadata": {
    "execution": {
     "iopub.execute_input": "2022-12-19T08:23:14.306378Z",
     "iopub.status.busy": "2022-12-19T08:23:14.305701Z",
     "iopub.status.idle": "2022-12-19T08:23:21.662351Z",
     "shell.execute_reply": "2022-12-19T08:23:21.661310Z"
    },
    "papermill": {
     "duration": 7.374055,
     "end_time": "2022-12-19T08:23:21.665592",
     "exception": false,
     "start_time": "2022-12-19T08:23:14.291537",
     "status": "completed"
    },
    "tags": []
   },
   "outputs": [],
   "source": [
    "import re\n",
    "from imblearn.under_sampling import RandomUnderSampler\n",
    "import nltk\n",
    "import keras\n",
    "from nltk.corpus import stopwords\n",
    "from keras.preprocessing.text import one_hot\n",
    "from keras_preprocessing.sequence import pad_sequences\n",
    "from keras.models import Sequential\n",
    "from keras.layers.core import Activation, Dropout, Dense\n",
    "from keras.layers import Flatten\n",
    "from keras.layers import GlobalMaxPooling1D\n",
    "from tensorflow.keras.layers import Embedding\n",
    "from sklearn.model_selection import train_test_split\n",
    "from keras.preprocessing.text import Tokenizer"
   ]
  },
  {
   "cell_type": "code",
   "execution_count": 3,
   "id": "84d1208c",
   "metadata": {
    "execution": {
     "iopub.execute_input": "2022-12-19T08:23:21.690206Z",
     "iopub.status.busy": "2022-12-19T08:23:21.689506Z",
     "iopub.status.idle": "2022-12-19T08:23:35.171014Z",
     "shell.execute_reply": "2022-12-19T08:23:35.169851Z"
    },
    "papermill": {
     "duration": 13.496785,
     "end_time": "2022-12-19T08:23:35.173792",
     "exception": false,
     "start_time": "2022-12-19T08:23:21.677007",
     "status": "completed"
    },
    "tags": []
   },
   "outputs": [
    {
     "data": {
      "text/html": [
       "<div>\n",
       "<style scoped>\n",
       "    .dataframe tbody tr th:only-of-type {\n",
       "        vertical-align: middle;\n",
       "    }\n",
       "\n",
       "    .dataframe tbody tr th {\n",
       "        vertical-align: top;\n",
       "    }\n",
       "\n",
       "    .dataframe thead th {\n",
       "        text-align: right;\n",
       "    }\n",
       "</style>\n",
       "<table border=\"1\" class=\"dataframe\">\n",
       "  <thead>\n",
       "    <tr style=\"text-align: right;\">\n",
       "      <th></th>\n",
       "      <th>Logs</th>\n",
       "      <th>y</th>\n",
       "    </tr>\n",
       "  </thead>\n",
       "  <tbody>\n",
       "    <tr>\n",
       "      <th>0</th>\n",
       "      <td>1117838570 2005.06.03 R02-M1-N0-C:J12-U11 200...</td>\n",
       "      <td>normal</td>\n",
       "    </tr>\n",
       "    <tr>\n",
       "      <th>1</th>\n",
       "      <td>1117838570 2005.06.03 R02-M1-N0-C:J12-U11 200...</td>\n",
       "      <td>normal</td>\n",
       "    </tr>\n",
       "    <tr>\n",
       "      <th>2</th>\n",
       "      <td>1117838570 2005.06.03 R02-M1-N0-C:J12-U11 200...</td>\n",
       "      <td>normal</td>\n",
       "    </tr>\n",
       "    <tr>\n",
       "      <th>3</th>\n",
       "      <td>1117838570 2005.06.03 R02-M1-N0-C:J12-U11 200...</td>\n",
       "      <td>normal</td>\n",
       "    </tr>\n",
       "    <tr>\n",
       "      <th>4</th>\n",
       "      <td>1117838570 2005.06.03 R02-M1-N0-C:J12-U11 200...</td>\n",
       "      <td>normal</td>\n",
       "    </tr>\n",
       "  </tbody>\n",
       "</table>\n",
       "</div>"
      ],
      "text/plain": [
       "                                                Logs       y\n",
       "0   1117838570 2005.06.03 R02-M1-N0-C:J12-U11 200...  normal\n",
       "1   1117838570 2005.06.03 R02-M1-N0-C:J12-U11 200...  normal\n",
       "2   1117838570 2005.06.03 R02-M1-N0-C:J12-U11 200...  normal\n",
       "3   1117838570 2005.06.03 R02-M1-N0-C:J12-U11 200...  normal\n",
       "4   1117838570 2005.06.03 R02-M1-N0-C:J12-U11 200...  normal"
      ]
     },
     "execution_count": 3,
     "metadata": {},
     "output_type": "execute_result"
    }
   ],
   "source": [
    "df = pd.read_json('/kaggle/input/convolve-epoch1/train.json', typ='series')\n",
    "raw_data = df.to_frame()\n",
    "raw_data.reset_index(inplace=True)\n",
    "raw_data.columns=['Logs', 'y']\n",
    "raw_data.head()"
   ]
  },
  {
   "cell_type": "code",
   "execution_count": 4,
   "id": "4e653fe9",
   "metadata": {
    "execution": {
     "iopub.execute_input": "2022-12-19T08:23:35.198889Z",
     "iopub.status.busy": "2022-12-19T08:23:35.198130Z",
     "iopub.status.idle": "2022-12-19T08:23:35.204242Z",
     "shell.execute_reply": "2022-12-19T08:23:35.203304Z"
    },
    "papermill": {
     "duration": 0.021174,
     "end_time": "2022-12-19T08:23:35.206566",
     "exception": false,
     "start_time": "2022-12-19T08:23:35.185392",
     "status": "completed"
    },
    "tags": []
   },
   "outputs": [],
   "source": [
    "def preprocess_text(sen):\n",
    "    sentence = re.sub('[^a-zA-Z]', ' ', sen)\n",
    "    sentence = sentence.replace('\\n', ' ')\n",
    "    sentence = sentence.lower()\n",
    "    sentence = re.sub(r'\\s+', ' ', sentence)\n",
    "    sentence = re.sub('(\\\\b[A-Za-z] \\\\b|\\\\b [A-Za-z]\\\\b)', '', sentence)\n",
    "    sentence = sentence.replace('ras kernel', ' ').strip()\n",
    "    return sentence"
   ]
  },
  {
   "cell_type": "code",
   "execution_count": 5,
   "id": "f541d022",
   "metadata": {
    "execution": {
     "iopub.execute_input": "2022-12-19T08:23:35.231863Z",
     "iopub.status.busy": "2022-12-19T08:23:35.231457Z",
     "iopub.status.idle": "2022-12-19T08:23:36.910734Z",
     "shell.execute_reply": "2022-12-19T08:23:36.909804Z"
    },
    "papermill": {
     "duration": 1.694815,
     "end_time": "2022-12-19T08:23:36.913328",
     "exception": false,
     "start_time": "2022-12-19T08:23:35.218513",
     "status": "completed"
    },
    "tags": []
   },
   "outputs": [],
   "source": [
    "raw_data['y'] = raw_data['y'].apply(lambda x: 1 if x == 'normal' else 0)"
   ]
  },
  {
   "cell_type": "code",
   "execution_count": 6,
   "id": "53a414ff",
   "metadata": {
    "execution": {
     "iopub.execute_input": "2022-12-19T08:23:36.938720Z",
     "iopub.status.busy": "2022-12-19T08:23:36.938008Z",
     "iopub.status.idle": "2022-12-19T08:23:37.086453Z",
     "shell.execute_reply": "2022-12-19T08:23:37.085126Z"
    },
    "papermill": {
     "duration": 0.164106,
     "end_time": "2022-12-19T08:23:37.089058",
     "exception": false,
     "start_time": "2022-12-19T08:23:36.924952",
     "status": "completed"
    },
    "tags": []
   },
   "outputs": [],
   "source": [
    "X = raw_data.drop(['y'], axis = 1)\n",
    "y = raw_data['y']"
   ]
  },
  {
   "cell_type": "code",
   "execution_count": 7,
   "id": "fba7145a",
   "metadata": {
    "execution": {
     "iopub.execute_input": "2022-12-19T08:23:37.114158Z",
     "iopub.status.busy": "2022-12-19T08:23:37.113747Z",
     "iopub.status.idle": "2022-12-19T08:23:38.391136Z",
     "shell.execute_reply": "2022-12-19T08:23:38.390147Z"
    },
    "papermill": {
     "duration": 1.29322,
     "end_time": "2022-12-19T08:23:38.393817",
     "exception": false,
     "start_time": "2022-12-19T08:23:37.100597",
     "status": "completed"
    },
    "tags": []
   },
   "outputs": [],
   "source": [
    "rus = RandomUnderSampler(sampling_strategy=1)\n",
    "X_res, y_res = rus.fit_resample(X, y)"
   ]
  },
  {
   "cell_type": "code",
   "execution_count": 8,
   "id": "868c59f0",
   "metadata": {
    "execution": {
     "iopub.execute_input": "2022-12-19T08:23:38.419720Z",
     "iopub.status.busy": "2022-12-19T08:23:38.418931Z",
     "iopub.status.idle": "2022-12-19T08:23:42.946479Z",
     "shell.execute_reply": "2022-12-19T08:23:42.945461Z"
    },
    "papermill": {
     "duration": 4.543513,
     "end_time": "2022-12-19T08:23:42.949108",
     "exception": false,
     "start_time": "2022-12-19T08:23:38.405595",
     "status": "completed"
    },
    "tags": []
   },
   "outputs": [],
   "source": [
    "X_res['Logs'] = X_res['Logs'].apply(preprocess_text)"
   ]
  },
  {
   "cell_type": "code",
   "execution_count": 9,
   "id": "21e098c5",
   "metadata": {
    "execution": {
     "iopub.execute_input": "2022-12-19T08:23:42.973891Z",
     "iopub.status.busy": "2022-12-19T08:23:42.973124Z",
     "iopub.status.idle": "2022-12-19T08:23:42.984962Z",
     "shell.execute_reply": "2022-12-19T08:23:42.983803Z"
    },
    "papermill": {
     "duration": 0.026843,
     "end_time": "2022-12-19T08:23:42.987388",
     "exception": false,
     "start_time": "2022-12-19T08:23:42.960545",
     "status": "completed"
    },
    "tags": []
   },
   "outputs": [
    {
     "data": {
      "text/html": [
       "<div>\n",
       "<style scoped>\n",
       "    .dataframe tbody tr th:only-of-type {\n",
       "        vertical-align: middle;\n",
       "    }\n",
       "\n",
       "    .dataframe tbody tr th {\n",
       "        vertical-align: top;\n",
       "    }\n",
       "\n",
       "    .dataframe thead th {\n",
       "        text-align: right;\n",
       "    }\n",
       "</style>\n",
       "<table border=\"1\" class=\"dataframe\">\n",
       "  <thead>\n",
       "    <tr style=\"text-align: right;\">\n",
       "      <th></th>\n",
       "      <th>Logs</th>\n",
       "    </tr>\n",
       "  </thead>\n",
       "  <tbody>\n",
       "    <tr>\n",
       "      <th>0</th>\n",
       "      <td>ras app fatal ciod failed to read message pref...</td>\n",
       "    </tr>\n",
       "    <tr>\n",
       "      <th>1</th>\n",
       "      <td>ras app fatal ciod failed to read message pref...</td>\n",
       "    </tr>\n",
       "    <tr>\n",
       "      <th>2</th>\n",
       "      <td>ras app fatal ciod failed to read message pref...</td>\n",
       "    </tr>\n",
       "    <tr>\n",
       "      <th>3</th>\n",
       "      <td>ras app fatal ciod failed to read message pref...</td>\n",
       "    </tr>\n",
       "    <tr>\n",
       "      <th>4</th>\n",
       "      <td>ras app fatal ciod failed to read message pref...</td>\n",
       "    </tr>\n",
       "    <tr>\n",
       "      <th>...</th>\n",
       "      <td>...</td>\n",
       "    </tr>\n",
       "    <tr>\n",
       "      <th>139379</th>\n",
       "      <td>info generating core</td>\n",
       "    </tr>\n",
       "    <tr>\n",
       "      <th>139380</th>\n",
       "      <td>info ce sym at mask</td>\n",
       "    </tr>\n",
       "    <tr>\n",
       "      <th>139381</th>\n",
       "      <td>na na   info generating core</td>\n",
       "    </tr>\n",
       "    <tr>\n",
       "      <th>139382</th>\n",
       "      <td>info ciod received signal code errno address</td>\n",
       "    </tr>\n",
       "    <tr>\n",
       "      <th>139383</th>\n",
       "      <td>info microseconds spent in the rbs signal hand...</td>\n",
       "    </tr>\n",
       "  </tbody>\n",
       "</table>\n",
       "<p>139384 rows × 1 columns</p>\n",
       "</div>"
      ],
      "text/plain": [
       "                                                     Logs\n",
       "0       ras app fatal ciod failed to read message pref...\n",
       "1       ras app fatal ciod failed to read message pref...\n",
       "2       ras app fatal ciod failed to read message pref...\n",
       "3       ras app fatal ciod failed to read message pref...\n",
       "4       ras app fatal ciod failed to read message pref...\n",
       "...                                                   ...\n",
       "139379                               info generating core\n",
       "139380                                info ce sym at mask\n",
       "139381                       na na   info generating core\n",
       "139382       info ciod received signal code errno address\n",
       "139383  info microseconds spent in the rbs signal hand...\n",
       "\n",
       "[139384 rows x 1 columns]"
      ]
     },
     "execution_count": 9,
     "metadata": {},
     "output_type": "execute_result"
    }
   ],
   "source": [
    "X_res"
   ]
  },
  {
   "cell_type": "code",
   "execution_count": 10,
   "id": "f112188c",
   "metadata": {
    "execution": {
     "iopub.execute_input": "2022-12-19T08:23:43.012801Z",
     "iopub.status.busy": "2022-12-19T08:23:43.012097Z",
     "iopub.status.idle": "2022-12-19T08:23:43.053297Z",
     "shell.execute_reply": "2022-12-19T08:23:43.052297Z"
    },
    "papermill": {
     "duration": 0.061467,
     "end_time": "2022-12-19T08:23:43.060598",
     "exception": false,
     "start_time": "2022-12-19T08:23:42.999131",
     "status": "completed"
    },
    "tags": []
   },
   "outputs": [
    {
     "data": {
      "text/plain": [
       "['ras app fatal ciod failed to read message prefix on control stream ciostream socket to',\n",
       " 'ras app fatal ciod failed to read message prefix on control stream ciostream socket to',\n",
       " 'ras app fatal ciod failed to read message prefix on control stream ciostream socket to',\n",
       " 'ras app fatal ciod failed to read message prefix on control stream ciostream socket to',\n",
       " 'ras app fatal ciod failed to read message prefix on control stream ciostream socket to',\n",
       " 'ras app fatal ciod failed to read message prefix on control stream ciostream socket to',\n",
       " 'ras app fatal ciod failed to read message prefix on control stream ciostream socket to',\n",
       " 'nc nc ras app fatal ciod failed to read message prefix on control stream ciostream socket to',\n",
       " 'nc nc ras app fatal ciod failed to read message prefix on control stream ciostream socket to',\n",
       " 'ras app fatal ciod failed to read message prefix on control stream ciostream socket to',\n",
       " 'ras app fatal ciod failed to read message prefix on control stream ciostream socket to',\n",
       " 'ras app fatal ciod failed to read message prefix on control stream ciostream socket to',\n",
       " 'ras app fatal ciod failed to read message prefix on control stream ciostream socket to',\n",
       " 'ras app fatal ciod failed to read message prefix on control stream ciostream socket to',\n",
       " 'ras app fatal ciod failed to read message prefix on control stream ciostream socket to',\n",
       " 'nc nc ras app fatal ciod failed to read message prefix on control stream ciostream socket to',\n",
       " 'nc nc ras app fatal ciod failed to read message prefix on control stream ciostream socket to',\n",
       " 'ras app fatal ciod failed to read message prefix on control stream ciostream socket to',\n",
       " 'ras app fatal ciod failed to read message prefix on control stream ciostream socket to',\n",
       " 'ras app fatal ciod failed to read message prefix on control stream ciostream socket to',\n",
       " 'ras app fatal ciod failed to read message prefix on control stream ciostream socket to',\n",
       " 'ras app fatal ciod failed to read message prefix on control stream ciostream socket to',\n",
       " 'ras app fatal ciod failed to read message prefix on control stream ciostream socket to',\n",
       " 'nc nc ras app fatal ciod failed to read message prefix on control stream ciostream socket to',\n",
       " 'nc nc ras app fatal ciod failed to read message prefix on control stream ciostream socket to',\n",
       " 'ras app fatal ciod failed to read message prefix on control stream ciostream socket to',\n",
       " 'ras app fatal ciod failed to read message prefix on control stream ciostream socket to',\n",
       " 'ras app fatal ciod failed to read message prefix on control stream ciostream socket to',\n",
       " 'ras app fatal ciod failed to read message prefix on control stream ciostream socket to',\n",
       " 'ras app fatal ciod failed to read message prefix on control stream ciostream socket to',\n",
       " 'ras app fatal ciod failed to read message prefix on control stream ciostream socket to',\n",
       " 'nc nc ras app fatal ciod failed to read message prefix on control stream ciostream socket to',\n",
       " 'nc nc ras app fatal ciod failed to read message prefix on control stream ciostream socket to',\n",
       " 'ras app fatal ciod failed to read message prefix on control stream ciostream socket to',\n",
       " 'ras app fatal ciod failed to read message prefix on control stream ciostream socket to',\n",
       " 'ras app fatal ciod failed to read message prefix on control stream ciostream socket to',\n",
       " 'ras app fatal ciod failed to read message prefix on control stream ciostream socket to',\n",
       " 'ras app fatal ciod failed to read message prefix on control stream ciostream socket to',\n",
       " 'ras app fatal ciod failed to read message prefix on control stream ciostream socket to',\n",
       " 'ras app fatal ciod failed to read message prefix on control stream ciostream socket to',\n",
       " 'ras app fatal ciod failed to read message prefix on control stream ciostream socket to',\n",
       " 'nc nc ras app fatal ciod failed to read message prefix on control stream ciostream socket to',\n",
       " 'nc nc ras app fatal ciod failed to read message prefix on control stream ciostream socket to',\n",
       " 'ras app fatal ciod failed to read message prefix on control stream ciostream socket to',\n",
       " 'ras app fatal ciod failed to read message prefix on control stream ciostream socket to',\n",
       " 'ras app fatal ciod failed to read message prefix on control stream ciostream socket to',\n",
       " 'ras app fatal ciod failed to read message prefix on control stream ciostream socket to',\n",
       " 'nc nc ras app fatal ciod failed to read message prefix on control stream ciostream socket to',\n",
       " 'nc nc ras app fatal ciod failed to read message prefix on control stream ciostream socket to',\n",
       " 'ras app fatal ciod failed to read message prefix on control stream ciostream socket to',\n",
       " 'ras app fatal ciod failed to read message prefix on control stream ciostream socket to',\n",
       " 'ras app fatal ciod failed to read message prefix on control stream ciostream socket to',\n",
       " 'ras app fatal ciod failed to read message prefix on control stream ciostream socket to',\n",
       " 'nc nc ras app fatal ciod failed to read message prefix on control stream ciostream socket to',\n",
       " 'nc nc ras app fatal ciod failed to read message prefix on control stream ciostream socket to',\n",
       " 'ras app fatal ciod failed to read message prefix on control stream ciostream socket to',\n",
       " 'ras app fatal ciod failed to read message prefix on control stream ciostream socket to',\n",
       " 'ras app fatal ciod failed to read message prefix on control stream ciostream socket to',\n",
       " 'ras app fatal ciod failed to read message prefix on control stream ciostream socket to',\n",
       " 'nc nc ras app fatal ciod failed to read message prefix on control stream ciostream socket to',\n",
       " 'nc nc ras app fatal ciod failed to read message prefix on control stream ciostream socket to',\n",
       " 'ras app fatal ciod failed to read message prefix on control stream ciostream socket to',\n",
       " 'ras app fatal ciod failed to read message prefix on control stream ciostream socket to',\n",
       " 'nc nc ras app fatal ciod failed to read message prefix on control stream ciostream socket to',\n",
       " 'nc nc ras app fatal ciod failed to read message prefix on control stream ciostream socket to',\n",
       " 'ras app fatal ciod failed to read message prefix on control stream ciostream socket to',\n",
       " 'ras app fatal ciod failed to read message prefix on control stream ciostream socket to',\n",
       " 'nc nc ras app fatal ciod failed to read message prefix on control stream ciostream socket to',\n",
       " 'nc nc ras app fatal ciod failed to read message prefix on control stream ciostream socket to',\n",
       " 'ras app fatal ciod failed to read message prefix on control stream ciostream socket to',\n",
       " 'ras app fatal ciod failed to read message prefix on control stream ciostream socket to',\n",
       " 'nc nc ras app fatal ciod failed to read message prefix on control stream ciostream socket to',\n",
       " 'nc nc ras app fatal ciod failed to read message prefix on control stream ciostream socket to',\n",
       " 'nc nc ras app fatal ciod failed to read message prefix on control stream ciostream socket to',\n",
       " 'nc nc ras app fatal ciod failed to read message prefix on control stream ciostream socket to',\n",
       " 'ras app fatal ciod failed to read message prefix on control stream ciostream socket to',\n",
       " 'ras app fatal ciod failed to read message prefix on control stream ciostream socket to',\n",
       " 'ras app fatal ciod failed to read message prefix on control stream ciostream socket to',\n",
       " 'ras app fatal ciod failed to read message prefix on control stream ciostream socket to',\n",
       " 'ras app fatal ciod failed to read message prefix on control stream ciostream socket to',\n",
       " 'ras app fatal ciod failed to read message prefix on control stream ciostream socket to',\n",
       " 'ras app fatal ciod failed to read message prefix on control stream ciostream socket to',\n",
       " 'ras app fatal ciod failed to read message prefix on control stream ciostream socket to',\n",
       " 'ras app fatal ciod failed to read message prefix on control stream ciostream socket to',\n",
       " 'ras app fatal ciod failed to read message prefix on control stream ciostream socket to',\n",
       " 'ras app fatal ciod failed to read message prefix on control stream ciostream socket to',\n",
       " 'ras app fatal ciod failed to read message prefix on control stream ciostream socket to',\n",
       " 'ras app fatal ciod failed to read message prefix on control stream ciostream socket to',\n",
       " 'ras app fatal ciod failed to read message prefix on control stream ciostream socket to',\n",
       " 'ras app fatal ciod failed to read message prefix on control stream ciostream socket to',\n",
       " 'ras app fatal ciod failed to read message prefix on control stream ciostream socket to',\n",
       " 'ras app fatal ciod failed to read message prefix on control stream ciostream socket to',\n",
       " 'ras app fatal ciod failed to read message prefix on control stream ciostream socket to',\n",
       " 'ras app fatal ciod failed to read message prefix on control stream ciostream socket to',\n",
       " 'ras app fatal ciod failed to read message prefix on control stream ciostream socket to',\n",
       " 'ras app fatal ciod failed to read message prefix on control stream ciostream socket to',\n",
       " 'ras app fatal ciod failed to read message prefix on control stream ciostream socket to',\n",
       " 'nc nc ras app fatal ciod failed to read message prefix on control stream ciostream socket to',\n",
       " 'nc nc ras app fatal ciod failed to read message prefix on control stream ciostream socket to',\n",
       " 'nc nc ras app fatal ciod failed to read message prefix on control stream ciostream socket to',\n",
       " 'nc nc ras app fatal ciod failed to read message prefix on control stream ciostream socket to',\n",
       " 'ras app fatal ciod failed to read message prefix on control stream ciostream socket to',\n",
       " 'ras app fatal ciod failed to read message prefix on control stream ciostream socket to',\n",
       " 'ras app fatal ciod failed to read message prefix on control stream ciostream socket to',\n",
       " 'ras app fatal ciod failed to read message prefix on control stream ciostream socket to',\n",
       " 'ras app fatal ciod failed to read message prefix on control stream ciostream socket to',\n",
       " 'ras app fatal ciod failed to read message prefix on control stream ciostream socket to',\n",
       " 'ras app fatal ciod failed to read message prefix on control stream ciostream socket to',\n",
       " 'ras app fatal ciod failed to read message prefix on control stream ciostream socket to',\n",
       " 'ras app fatal ciod failed to read message prefix on control stream ciostream socket to',\n",
       " 'ras app fatal ciod failed to read message prefix on control stream ciostream socket to',\n",
       " 'ras app fatal ciod failed to read message prefix on control stream ciostream socket to',\n",
       " 'ras app fatal ciod failed to read message prefix on control stream ciostream socket to',\n",
       " 'ras app fatal ciod failed to read message prefix on control stream ciostream socket to',\n",
       " 'ras app fatal ciod failed to read message prefix on control stream ciostream socket to',\n",
       " 'ras app fatal ciod failed to read message prefix on control stream ciostream socket to',\n",
       " 'ras app fatal ciod failed to read message prefix on control stream ciostream socket to',\n",
       " 'ras app fatal ciod failed to read message prefix on control stream ciostream socket to',\n",
       " 'ras app fatal ciod failed to read message prefix on control stream ciostream socket to',\n",
       " 'ras app fatal ciod failed to read message prefix on control stream ciostream socket to',\n",
       " 'ras app fatal ciod failed to read message prefix on control stream ciostream socket to',\n",
       " 'ras app fatal ciod failed to read message prefix on control stream ciostream socket to',\n",
       " 'ras app fatal ciod failed to read message prefix on control stream ciostream socket to',\n",
       " 'ras app fatal ciod failed to read message prefix on control stream ciostream socket to',\n",
       " 'ras app fatal ciod failed to read message prefix on control stream ciostream socket to',\n",
       " 'ras app fatal ciod failed to read message prefix on control stream ciostream socket to',\n",
       " 'ras app fatal ciod failed to read message prefix on control stream ciostream socket to',\n",
       " 'ras app fatal ciod failed to read message prefix on control stream ciostream socket to',\n",
       " 'ras app fatal ciod failed to read message prefix on control stream ciostream socket to',\n",
       " 'ras app fatal ciod failed to read message prefix on control stream ciostream socket to',\n",
       " 'ras app fatal ciod failed to read message prefix on control stream ciostream socket to',\n",
       " 'ras app fatal ciod failed to read message prefix on control stream ciostream socket to',\n",
       " 'ras app fatal ciod failed to read message prefix on control stream ciostream socket to',\n",
       " 'ras app fatal ciod failed to read message prefix on control stream ciostream socket to',\n",
       " 'ras app fatal ciod failed to read message prefix on control stream ciostream socket to',\n",
       " 'ras app fatal ciod failed to read message prefix on control stream ciostream socket to',\n",
       " 'ras app fatal ciod failed to read message prefix on control stream ciostream socket to',\n",
       " 'ras app fatal ciod failed to read message prefix on control stream ciostream socket to',\n",
       " 'ras app fatal ciod failed to read message prefix on control stream ciostream socket to',\n",
       " 'ras app fatal ciod failed to read message prefix on control stream ciostream socket to',\n",
       " 'ras app fatal ciod failed to read message prefix on control stream ciostream socket to',\n",
       " 'ras app fatal ciod failed to read message prefix on control stream ciostream socket to',\n",
       " 'ras app fatal ciod failed to read message prefix on control stream ciostream socket to',\n",
       " 'ras app fatal ciod failed to read message prefix on control stream ciostream socket to',\n",
       " 'ras app fatal ciod failed to read message prefix on control stream ciostream socket to',\n",
       " 'ras app fatal ciod failed to read message prefix on control stream ciostream socket to',\n",
       " 'ras app fatal ciod failed to read message prefix on control stream ciostream socket to',\n",
       " 'ras app fatal ciod failed to read message prefix on control stream ciostream socket to',\n",
       " 'ras app fatal ciod failed to read message prefix on control stream ciostream socket to',\n",
       " 'ras app fatal ciod failed to read message prefix on control stream ciostream socket to',\n",
       " 'ras app fatal ciod failed to read message prefix on control stream ciostream socket to',\n",
       " 'nc nc ras app fatal ciod failed to read message prefix on control stream ciostream socket to',\n",
       " 'nc nc ras app fatal ciod failed to read message prefix on control stream ciostream socket to',\n",
       " 'nc nc ras app fatal ciod failed to read message prefix on control stream ciostream socket to',\n",
       " 'nc nc ras app fatal ciod failed to read message prefix on control stream ciostream socket to',\n",
       " 'nc nc ras app fatal ciod failed to read message prefix on control stream ciostream socket to',\n",
       " 'nc nc ras app fatal ciod failed to read message prefix on control stream ciostream socket to',\n",
       " 'ras app fatal ciod failed to read message prefix on control stream ciostream socket to',\n",
       " 'ras app fatal ciod failed to read message prefix on control stream ciostream socket to',\n",
       " 'ras app fatal ciod failed to read message prefix on control stream ciostream socket to',\n",
       " 'ras app fatal ciod failed to read message prefix on control stream ciostream socket to',\n",
       " 'ras app fatal ciod failed to read message prefix on control stream ciostream socket to',\n",
       " 'ras app fatal ciod failed to read message prefix on control stream ciostream socket to',\n",
       " 'nc nc ras app fatal ciod failed to read message prefix on control stream ciostream socket to',\n",
       " 'nc nc ras app fatal ciod failed to read message prefix on control stream ciostream socket to',\n",
       " 'ras app fatal ciod failed to read message prefix on control stream ciostream socket to',\n",
       " 'ras app fatal ciod failed to read message prefix on control stream ciostream socket to',\n",
       " 'nc nc ras app fatal ciod failed to read message prefix on control stream ciostream socket to',\n",
       " 'nc nc ras app fatal ciod failed to read message prefix on control stream ciostream socket to',\n",
       " 'ras app fatal ciod failed to read message prefix on control stream ciostream socket to',\n",
       " 'ras app fatal ciod failed to read message prefix on control stream ciostream socket to',\n",
       " 'ras app fatal ciod failed to read message prefix on control stream ciostream socket to',\n",
       " 'ras app fatal ciod failed to read message prefix on control stream ciostream socket to',\n",
       " 'ras app fatal ciod failed to read message prefix on control stream ciostream socket to',\n",
       " 'ras app fatal ciod failed to read message prefix on control stream ciostream socket to',\n",
       " 'ras app fatal ciod failed to read message prefix on control stream ciostream socket to',\n",
       " 'ras app fatal ciod failed to read message prefix on control stream ciostream socket to',\n",
       " 'nc nc ras app fatal ciod failed to read message prefix on control stream ciostream socket to',\n",
       " 'nc nc ras app fatal ciod failed to read message prefix on control stream ciostream socket to',\n",
       " 'ras app fatal ciod failed to read message prefix on control stream ciostream socket to',\n",
       " 'ras app fatal ciod failed to read message prefix on control stream ciostream socket to',\n",
       " 'ras app fatal ciod failed to read message prefix on control stream ciostream socket to',\n",
       " 'ras app fatal ciod failed to read message prefix on control stream ciostream socket to',\n",
       " 'ras app fatal ciod failed to read message prefix on control stream ciostream socket to',\n",
       " 'ras app fatal ciod failed to read message prefix on control stream ciostream socket to',\n",
       " 'ras app fatal ciod failed to read message prefix on control stream ciostream socket to',\n",
       " 'ras app fatal ciod failed to read message prefix on control stream ciostream socket to',\n",
       " 'nc nc ras app fatal ciod failed to read message prefix on control stream ciostream socket to',\n",
       " 'nc nc ras app fatal ciod failed to read message prefix on control stream ciostream socket to',\n",
       " 'ras app fatal ciod failed to read message prefix on control stream ciostream socket to',\n",
       " 'ras app fatal ciod failed to read message prefix on control stream ciostream socket to',\n",
       " 'nc nc ras app fatal ciod failed to read message prefix on control stream ciostream socket to',\n",
       " 'nc nc ras app fatal ciod failed to read message prefix on control stream ciostream socket to',\n",
       " 'nc nc ras app fatal ciod failed to read message prefix on control stream ciostream socket to',\n",
       " 'nc nc ras app fatal ciod failed to read message prefix on control stream ciostream socket to',\n",
       " 'ras app fatal ciod failed to read message prefix on control stream ciostream socket to',\n",
       " 'ras app fatal ciod failed to read message prefix on control stream ciostream socket to',\n",
       " 'nc nc ras app fatal ciod failed to read message prefix on control stream ciostream socket to',\n",
       " 'nc nc ras app fatal ciod failed to read message prefix on control stream ciostream socket to',\n",
       " 'ras app fatal ciod failed to read message prefix on control stream ciostream socket to',\n",
       " 'ras app fatal ciod failed to read message prefix on control stream ciostream socket to',\n",
       " 'ras app fatal ciod failed to read message prefix on control stream ciostream socket to',\n",
       " 'ras app fatal ciod failed to read message prefix on control stream ciostream socket to',\n",
       " 'ras app fatal ciod failed to read message prefix on control stream ciostream socket to',\n",
       " 'ras app fatal ciod failed to read message prefix on control stream ciostream socket to',\n",
       " 'ras app fatal ciod failed to read message prefix on control stream ciostream socket to',\n",
       " 'ras app fatal ciod failed to read message prefix on control stream ciostream socket to',\n",
       " 'ras app fatal ciod failed to read message prefix on control stream ciostream socket to',\n",
       " 'ras app fatal ciod failed to read message prefix on control stream ciostream socket to',\n",
       " 'ras app fatal ciod failed to read message prefix on control stream ciostream socket to',\n",
       " 'ras app fatal ciod failed to read message prefix on control stream ciostream socket to',\n",
       " 'ras app fatal ciod failed to read message prefix on control stream ciostream socket to',\n",
       " 'ras app fatal ciod failed to read message prefix on control stream ciostream socket to',\n",
       " 'ras app fatal ciod failed to read message prefix on control stream ciostream socket to',\n",
       " 'ras app fatal ciod failed to read message prefix on control stream ciostream socket to',\n",
       " 'ras app fatal ciod failed to read message prefix on control stream ciostream socket to',\n",
       " 'ras app fatal ciod failed to read message prefix on control stream ciostream socket to',\n",
       " 'nc nc ras app fatal ciod failed to read message prefix on control stream ciostream socket to',\n",
       " 'nc nc ras app fatal ciod failed to read message prefix on control stream ciostream socket to',\n",
       " 'ras app fatal ciod failed to read message prefix on control stream ciostream socket to',\n",
       " 'ras app fatal ciod failed to read message prefix on control stream ciostream socket to',\n",
       " 'ras app fatal ciod failed to read message prefix on control stream ciostream socket to',\n",
       " 'nc nc ras app fatal ciod failed to read message prefix on control stream ciostream socket to',\n",
       " 'nc nc ras app fatal ciod failed to read message prefix on control stream ciostream socket to',\n",
       " 'ras app fatal ciod failed to read message prefix on control stream ciostream socket to',\n",
       " 'ras app fatal ciod failed to read message prefix on control stream ciostream socket to',\n",
       " 'nc nc ras app fatal ciod failed to read message prefix on control stream ciostream socket to',\n",
       " 'nc nc ras app fatal ciod failed to read message prefix on control stream ciostream socket to',\n",
       " 'nc nc ras app fatal ciod failed to read message prefix on control stream ciostream socket to',\n",
       " 'nc nc ras app fatal ciod failed to read message prefix on control stream ciostream socket to',\n",
       " 'ras app fatal ciod failed to read message prefix on control stream ciostream socket to',\n",
       " 'ras app fatal ciod failed to read message prefix on control stream ciostream socket to',\n",
       " 'nc nc ras app fatal ciod failed to read message prefix on control stream ciostream socket to',\n",
       " 'nc nc ras app fatal ciod failed to read message prefix on control stream ciostream socket to',\n",
       " 'nc nc ras app fatal ciod failed to read message prefix on control stream ciostream socket to',\n",
       " 'nc nc ras app fatal ciod failed to read message prefix on control stream ciostream socket to',\n",
       " 'ras app fatal ciod failed to read message prefix on control stream ciostream socket to',\n",
       " 'ras app fatal ciod failed to read message prefix on control stream ciostream socket to',\n",
       " 'ras app fatal ciod failed to read message prefix on control stream ciostream socket to',\n",
       " 'ras app fatal ciod failed to read message prefix on control stream ciostream socket to',\n",
       " 'ras app fatal ciod failed to read message prefix on control stream ciostream socket to',\n",
       " 'ras app fatal ciod failed to read message prefix on control stream ciostream socket to',\n",
       " 'ras app fatal ciod failed to read message prefix on control stream ciostream socket to',\n",
       " 'ras app fatal ciod failed to read message prefix on control stream ciostream socket to',\n",
       " 'ras app fatal ciod failed to read message prefix on control stream ciostream socket to',\n",
       " 'ras app fatal ciod failed to read message prefix on control stream ciostream socket to',\n",
       " 'ras app fatal ciod failed to read message prefix on control stream ciostream socket to',\n",
       " 'ras app fatal ciod failed to read message prefix on control stream ciostream socket to',\n",
       " 'nc nc ras app fatal ciod failed to read message prefix on control stream ciostream socket to',\n",
       " 'nc nc ras app fatal ciod failed to read message prefix on control stream ciostream socket to',\n",
       " 'nc nc ras app fatal ciod failed to read message prefix on control stream ciostream socket to',\n",
       " 'nc nc ras app fatal ciod failed to read message prefix on control stream ciostream socket to',\n",
       " 'ras app fatal ciod failed to read message prefix on control stream ciostream socket to',\n",
       " 'ras app fatal ciod failed to read message prefix on control stream ciostream socket to',\n",
       " 'nc nc ras app fatal ciod failed to read message prefix on control stream ciostream socket to',\n",
       " 'nc nc ras app fatal ciod failed to read message prefix on control stream ciostream socket to',\n",
       " 'ras app fatal ciod failed to read message prefix on control stream ciostream socket to',\n",
       " 'ras app fatal ciod failed to read message prefix on control stream ciostream socket to',\n",
       " 'nc nc ras app fatal ciod failed to read message prefix on control stream ciostream socket to',\n",
       " 'nc nc ras app fatal ciod failed to read message prefix on control stream ciostream socket to',\n",
       " 'nc nc ras app fatal ciod failed to read message prefix on control stream ciostream socket to',\n",
       " 'nc nc ras app fatal ciod failed to read message prefix on control stream ciostream socket to',\n",
       " 'ras app fatal ciod failed to read message prefix on control stream ciostream socket to',\n",
       " 'ras app fatal ciod failed to read message prefix on control stream ciostream socket to',\n",
       " 'ras app fatal ciod failed to read message prefix on control stream ciostream socket to',\n",
       " 'ras app fatal ciod failed to read message prefix on control stream ciostream socket to',\n",
       " 'ras app fatal ciod failed to read message prefix on control stream ciostream socket to',\n",
       " 'ras app fatal ciod failed to read message prefix on control stream ciostream socket to',\n",
       " 'ras app fatal ciod failed to read message prefix on control stream ciostream socket to',\n",
       " 'ras app fatal ciod failed to read message prefix on control stream ciostream socket to',\n",
       " 'ras app fatal ciod failed to read message prefix on control stream ciostream socket to',\n",
       " 'ras app fatal ciod failed to read message prefix on control stream ciostream socket to',\n",
       " 'ras app fatal ciod failed to read message prefix on control stream ciostream socket to',\n",
       " 'ras app fatal ciod failed to read message prefix on control stream ciostream socket to',\n",
       " 'ras app fatal ciod failed to read message prefix on control stream ciostream socket to',\n",
       " 'ras app fatal ciod failed to read message prefix on control stream ciostream socket to',\n",
       " 'ras app fatal ciod failed to read message prefix on control stream ciostream socket to',\n",
       " 'ras app fatal ciod failed to read message prefix on control stream ciostream socket to',\n",
       " 'ras app fatal ciod failed to read message prefix on control stream ciostream socket to',\n",
       " 'ras app fatal ciod failed to read message prefix on control stream ciostream socket to',\n",
       " 'ras app fatal ciod failed to read message prefix on control stream ciostream socket to',\n",
       " 'ras app fatal ciod failed to read message prefix on control stream ciostream socket to',\n",
       " 'ras app fatal ciod failed to read message prefix on control stream ciostream socket to',\n",
       " 'ras app fatal ciod failed to read message prefix on control stream ciostream socket to',\n",
       " 'nc nc ras app fatal ciod failed to read message prefix on control stream ciostream socket to',\n",
       " 'nc nc ras app fatal ciod failed to read message prefix on control stream ciostream socket to',\n",
       " 'ras app fatal ciod failed to read message prefix on control stream ciostream socket to',\n",
       " 'ras app fatal ciod failed to read message prefix on control stream ciostream socket to',\n",
       " 'nc nc ras app fatal ciod failed to read message prefix on control stream ciostream socket to',\n",
       " 'nc nc ras app fatal ciod failed to read message prefix on control stream ciostream socket to',\n",
       " 'ras app fatal ciod failed to read message prefix on control stream ciostream socket to',\n",
       " 'ras app fatal ciod failed to read message prefix on control stream ciostream socket to',\n",
       " 'ras app fatal ciod failed to read message prefix on control stream ciostream socket to',\n",
       " 'ras app fatal ciod failed to read message prefix on control stream ciostream socket to',\n",
       " 'ras app fatal ciod failed to read message prefix on control stream ciostream socket to',\n",
       " 'ras app fatal ciod failed to read message prefix on control stream ciostream socket to',\n",
       " 'ras app fatal ciod failed to read message prefix on control stream ciostream socket to',\n",
       " 'ras app fatal ciod failed to read message prefix on control stream ciostream socket to',\n",
       " 'nc nc ras app fatal ciod failed to read message prefix on control stream ciostream socket to',\n",
       " 'nc nc ras app fatal ciod failed to read message prefix on control stream ciostream socket to',\n",
       " 'nc nc ras app fatal ciod failed to read message prefix on control stream ciostream socket to',\n",
       " 'nc nc ras app fatal ciod failed to read message prefix on control stream ciostream socket to',\n",
       " 'ras app fatal ciod failed to read message prefix on control stream ciostream socket to',\n",
       " 'ras app fatal ciod failed to read message prefix on control stream ciostream socket to',\n",
       " 'ras app fatal ciod failed to read message prefix on control stream ciostream socket to',\n",
       " 'ras app fatal ciod failed to read message prefix on control stream ciostream socket to',\n",
       " 'nc nc ras app fatal ciod failed to read message prefix on control stream ciostream socket to',\n",
       " 'nc nc ras app fatal ciod failed to read message prefix on control stream ciostream socket to',\n",
       " 'ras app fatal ciod failed to read message prefix on control stream ciostream socket to',\n",
       " 'ras app fatal ciod failed to read message prefix on control stream ciostream socket to',\n",
       " 'ras app fatal ciod failed to read message prefix on control stream ciostream socket to',\n",
       " 'ras app fatal ciod failed to read message prefix on control stream ciostream socket to',\n",
       " 'ras app fatal ciod failed to read message prefix on control stream ciostream socket to',\n",
       " 'ras app fatal ciod failed to read message prefix on control stream ciostream socket to',\n",
       " 'ras app fatal ciod failed to read message prefix on control stream ciostream socket to',\n",
       " 'ras app fatal ciod failed to read message prefix on control stream ciostream socket to',\n",
       " 'ras app fatal ciod failed to read message prefix on control stream ciostream socket to',\n",
       " 'ras app fatal ciod failed to read message prefix on control stream ciostream socket to',\n",
       " 'nc nc ras app fatal ciod failed to read message prefix on control stream ciostream socket to',\n",
       " 'nc nc ras app fatal ciod failed to read message prefix on control stream ciostream socket to',\n",
       " 'ras app fatal ciod failed to read message prefix on control stream ciostream socket to',\n",
       " 'ras app fatal ciod failed to read message prefix on control stream ciostream socket to',\n",
       " 'ras app fatal ciod failed to read message prefix on control stream ciostream socket to',\n",
       " 'ras app fatal ciod failed to read message prefix on control stream ciostream socket to',\n",
       " 'ras app fatal ciod failed to read message prefix on control stream ciostream socket to',\n",
       " 'ras app fatal ciod failed to read message prefix on control stream ciostream socket to',\n",
       " 'ras app fatal ciod failed to read message prefix on control stream ciostream socket to',\n",
       " 'ras app fatal ciod failed to read message prefix on control stream ciostream socket to',\n",
       " 'nc nc ras app fatal ciod failed to read message prefix on control stream ciostream socket to',\n",
       " 'nc nc ras app fatal ciod failed to read message prefix on control stream ciostream socket to',\n",
       " 'ras app fatal ciod failed to read message prefix on control stream ciostream socket to',\n",
       " 'ras app fatal ciod failed to read message prefix on control stream ciostream socket to',\n",
       " 'nc nc ras app fatal ciod failed to read message prefix on control stream ciostream socket to',\n",
       " 'nc nc ras app fatal ciod failed to read message prefix on control stream ciostream socket to',\n",
       " 'ras app fatal ciod failed to read message prefix on control stream ciostream socket to',\n",
       " 'ras app fatal ciod failed to read message prefix on control stream ciostream socket to',\n",
       " 'ras app fatal ciod failed to read message prefix on control stream ciostream socket to',\n",
       " 'ras app fatal ciod failed to read message prefix on control stream ciostream socket to',\n",
       " 'ras app fatal ciod failed to read message prefix on control stream ciostream socket to',\n",
       " 'ras app fatal ciod failed to read message prefix on control stream ciostream socket to',\n",
       " 'ras app fatal ciod failed to read message prefix on control stream ciostream socket to',\n",
       " 'ras app fatal ciod failed to read message prefix on control stream ciostream socket to',\n",
       " 'nc nc ras app fatal ciod failed to read message prefix on control stream ciostream socket to',\n",
       " 'nc nc ras app fatal ciod failed to read message prefix on control stream ciostream socket to',\n",
       " 'ras app fatal ciod failed to read message prefix on control stream ciostream socket to',\n",
       " 'ras app fatal ciod failed to read message prefix on control stream ciostream socket to',\n",
       " 'ras app fatal ciod failed to read message prefix on control stream ciostream socket to',\n",
       " 'ras app fatal ciod failed to read message prefix on control stream ciostream socket to',\n",
       " 'nc nc ras app fatal ciod failed to read message prefix on control stream ciostream socket to',\n",
       " 'nc nc ras app fatal ciod failed to read message prefix on control stream ciostream socket to',\n",
       " 'ras app fatal ciod failed to read message prefix on control stream ciostream socket to',\n",
       " 'ras app fatal ciod failed to read message prefix on control stream ciostream socket to',\n",
       " 'ras app fatal ciod failed to read message prefix on control stream ciostream socket to',\n",
       " 'ras app fatal ciod failed to read message prefix on control stream ciostream socket to',\n",
       " 'ras app fatal ciod failed to read message prefix on control stream ciostream socket to',\n",
       " 'ras app fatal ciod failed to read message prefix on control stream ciostream socket to',\n",
       " 'ras app fatal ciod failed to read message prefix on control stream ciostream socket to',\n",
       " 'ras app fatal ciod failed to read message prefix on control stream ciostream socket to',\n",
       " 'ras app fatal ciod failed to read message prefix on control stream ciostream socket to',\n",
       " 'ras app fatal ciod failed to read message prefix on control stream ciostream socket to',\n",
       " 'ras app fatal ciod failed to read message prefix on control stream ciostream socket to',\n",
       " 'ras app fatal ciod failed to read message prefix on control stream ciostream socket to',\n",
       " 'nc nc ras app fatal ciod failed to read message prefix on control stream ciostream socket to',\n",
       " 'nc nc ras app fatal ciod failed to read message prefix on control stream ciostream socket to',\n",
       " 'ras app fatal ciod failed to read message prefix on control stream ciostream socket to',\n",
       " 'ras app fatal ciod failed to read message prefix on control stream ciostream socket to',\n",
       " 'ras app fatal ciod failed to read message prefix on control stream ciostream socket to',\n",
       " 'ras app fatal ciod failed to read message prefix on control stream ciostream socket to',\n",
       " 'nc nc ras app fatal ciod failed to read message prefix on control stream ciostream socket to',\n",
       " 'nc nc ras app fatal ciod failed to read message prefix on control stream ciostream socket to',\n",
       " 'ras app fatal ciod failed to read message prefix on control stream ciostream socket to',\n",
       " 'ras app fatal ciod failed to read message prefix on control stream ciostream socket to',\n",
       " 'ras app fatal ciod failed to read message prefix on control stream ciostream socket to',\n",
       " 'ras app fatal ciod failed to read message prefix on control stream ciostream socket to',\n",
       " 'ras app fatal ciod failed to read message prefix on control stream ciostream socket to',\n",
       " 'ras app fatal ciod failed to read message prefix on control stream ciostream socket to',\n",
       " 'ras app fatal ciod failed to read message prefix on control stream ciostream socket to',\n",
       " 'ras app fatal ciod failed to read message prefix on control stream ciostream socket to',\n",
       " 'ras app fatal ciod failed to read message prefix on control stream ciostream socket to',\n",
       " 'ras app fatal ciod failed to read message prefix on control stream ciostream socket to',\n",
       " 'nc nc ras app fatal ciod failed to read message prefix on control stream ciostream socket to',\n",
       " 'nc nc ras app fatal ciod failed to read message prefix on control stream ciostream socket to',\n",
       " 'ras app fatal ciod failed to read message prefix on control stream ciostream socket to',\n",
       " 'ras app fatal ciod failed to read message prefix on control stream ciostream socket to',\n",
       " 'ras app fatal ciod failed to read message prefix on control stream ciostream socket to',\n",
       " 'ras app fatal ciod failed to read message prefix on control stream ciostream socket to',\n",
       " 'nc nc ras app fatal ciod failed to read message prefix on control stream ciostream socket to',\n",
       " 'nc nc ras app fatal ciod failed to read message prefix on control stream ciostream socket to',\n",
       " 'nc nc ras app fatal ciod failed to read message prefix on control stream ciostream socket to',\n",
       " 'nc nc ras app fatal ciod failed to read message prefix on control stream ciostream socket to',\n",
       " 'ras app fatal ciod failed to read message prefix on control stream ciostream socket to',\n",
       " 'ras app fatal ciod failed to read message prefix on control stream ciostream socket to',\n",
       " 'nc nc ras app fatal ciod failed to read message prefix on control stream ciostream socket to',\n",
       " 'nc nc ras app fatal ciod failed to read message prefix on control stream ciostream socket to',\n",
       " 'ras app fatal ciod failed to read message prefix on control stream ciostream socket to',\n",
       " 'ras app fatal ciod failed to read message prefix on control stream ciostream socket to',\n",
       " 'nc nc ras app fatal ciod failed to read message prefix on control stream ciostream socket to',\n",
       " 'nc nc ras app fatal ciod failed to read message prefix on control stream ciostream socket to',\n",
       " 'ras app fatal ciod failed to read message prefix on control stream ciostream socket to',\n",
       " 'ras app fatal ciod failed to read message prefix on control stream ciostream socket to',\n",
       " 'ras app fatal ciod failed to read message prefix on control stream ciostream socket to',\n",
       " 'ras app fatal ciod failed to read message prefix on control stream ciostream socket to',\n",
       " 'ras app fatal ciod failed to read message prefix on control stream ciostream socket to',\n",
       " 'ras app fatal ciod failed to read message prefix on control stream ciostream socket to',\n",
       " 'ras app fatal ciod failed to read message prefix on control stream ciostream socket to',\n",
       " 'ras app fatal ciod failed to read message prefix on control stream ciostream socket to',\n",
       " 'ras app fatal ciod failed to read message prefix on control stream ciostream socket to',\n",
       " 'ras app fatal ciod failed to read message prefix on control stream ciostream socket to',\n",
       " 'ras app fatal ciod failed to read message prefix on control stream ciostream socket to',\n",
       " 'ras app fatal ciod failed to read message prefix on control stream ciostream socket to',\n",
       " 'ras app fatal ciod failed to read message prefix on control stream ciostream socket to',\n",
       " 'ras app fatal ciod failed to read message prefix on control stream ciostream socket to',\n",
       " 'ras app fatal ciod failed to read message prefix on control stream ciostream socket to',\n",
       " 'ras app fatal ciod failed to read message prefix on control stream ciostream socket to',\n",
       " 'ras app fatal ciod failed to read message prefix on control stream ciostream socket to',\n",
       " 'ras app fatal ciod failed to read message prefix on control stream ciostream socket to',\n",
       " 'ras app fatal ciod failed to read message prefix on control stream ciostream socket to',\n",
       " 'ras app fatal ciod failed to read message prefix on control stream ciostream socket to',\n",
       " 'ras app fatal ciod failed to read message prefix on control stream ciostream socket to',\n",
       " 'ras app fatal ciod failed to read message prefix on control stream ciostream socket to',\n",
       " 'nc nc ras app fatal ciod failed to read message prefix on control stream ciostream socket to',\n",
       " 'nc nc ras app fatal ciod failed to read message prefix on control stream ciostream socket to',\n",
       " 'ras app fatal ciod failed to read message prefix on control stream ciostream socket to',\n",
       " 'ras app fatal ciod failed to read message prefix on control stream ciostream socket to',\n",
       " 'ras app fatal ciod failed to read message prefix on control stream ciostream socket to',\n",
       " 'ras app fatal ciod failed to read message prefix on control stream ciostream socket to',\n",
       " 'ras app fatal ciod failed to read message prefix on control stream ciostream socket to',\n",
       " 'ras app fatal ciod failed to read message prefix on control stream ciostream socket to',\n",
       " 'ras app fatal ciod failed to read message prefix on control stream ciostream socket to',\n",
       " 'ras app fatal ciod failed to read message prefix on control stream ciostream socket to',\n",
       " 'nc nc ras app fatal ciod failed to read message prefix on control stream ciostream socket to',\n",
       " 'nc nc ras app fatal ciod failed to read message prefix on control stream ciostream socket to',\n",
       " 'nc nc ras app fatal ciod failed to read message prefix on control stream ciostream socket to',\n",
       " 'nc nc ras app fatal ciod failed to read message prefix on control stream ciostream socket to',\n",
       " 'ras app fatal ciod failed to read message prefix on control stream ciostream socket to',\n",
       " 'ras app fatal ciod failed to read message prefix on control stream ciostream socket to',\n",
       " 'ras app fatal ciod failed to read message prefix on control stream ciostream socket to',\n",
       " 'ras app fatal ciod failed to read message prefix on control stream ciostream socket to',\n",
       " 'ras app fatal ciod failed to read message prefix on control stream ciostream socket to',\n",
       " 'ras app fatal ciod failed to read message prefix on control stream ciostream socket to',\n",
       " 'ras app fatal ciod failed to read message prefix on control stream ciostream socket to',\n",
       " 'ras app fatal ciod failed to read message prefix on control stream ciostream socket to',\n",
       " 'nc nc ras app fatal ciod failed to read message prefix on control stream ciostream socket to',\n",
       " 'nc nc ras app fatal ciod failed to read message prefix on control stream ciostream socket to',\n",
       " 'ras app fatal ciod failed to read message prefix on control stream ciostream socket to',\n",
       " 'ras app fatal ciod failed to read message prefix on control stream ciostream socket to',\n",
       " 'nc nc ras app fatal ciod failed to read message prefix on control stream ciostream socket to',\n",
       " 'nc nc ras app fatal ciod failed to read message prefix on control stream ciostream socket to',\n",
       " 'ras app fatal ciod failed to read message prefix on control stream ciostream socket to',\n",
       " 'ras app fatal ciod failed to read message prefix on control stream ciostream socket to',\n",
       " 'nc nc ras app fatal ciod failed to read message prefix on control stream ciostream socket to',\n",
       " 'nc nc ras app fatal ciod failed to read message prefix on control stream ciostream socket to',\n",
       " 'ras app fatal ciod failed to read message prefix on control stream ciostream socket to',\n",
       " 'ras app fatal ciod failed to read message prefix on control stream ciostream socket to',\n",
       " 'ras app fatal ciod failed to read message prefix on control stream ciostream socket to',\n",
       " 'ras app fatal ciod failed to read message prefix on control stream ciostream socket to',\n",
       " 'ras app fatal ciod failed to read message prefix on control stream ciostream socket to',\n",
       " 'ras app fatal ciod failed to read message prefix on control stream ciostream socket to',\n",
       " 'ras app fatal ciod failed to read message prefix on control stream ciostream socket to',\n",
       " 'ras app fatal ciod failed to read message prefix on control stream ciostream socket to',\n",
       " 'ras app fatal ciod failed to read message prefix on control stream ciostream socket to',\n",
       " 'ras app fatal ciod failed to read message prefix on control stream ciostream socket to',\n",
       " 'ras app fatal ciod failed to read message prefix on control stream ciostream socket to',\n",
       " 'ras app fatal ciod failed to read message prefix on control stream ciostream socket to',\n",
       " 'ras app fatal ciod failed to read message prefix on control stream ciostream socket to',\n",
       " 'ras app fatal ciod failed to read message prefix on control stream ciostream socket to',\n",
       " 'ras app fatal ciod failed to read message prefix on control stream ciostream socket to',\n",
       " 'ras app fatal ciod failed to read message prefix on control stream ciostream socket to',\n",
       " 'nc nc ras app fatal ciod failed to read message prefix on control stream ciostream socket to',\n",
       " 'nc nc ras app fatal ciod failed to read message prefix on control stream ciostream socket to',\n",
       " 'ras app fatal ciod failed to read message prefix on control stream ciostream socket to',\n",
       " 'ras app fatal ciod failed to read message prefix on control stream ciostream socket to',\n",
       " 'nc nc ras app fatal ciod failed to read message prefix on control stream ciostream socket to',\n",
       " 'nc nc ras app fatal ciod failed to read message prefix on control stream ciostream socket to',\n",
       " 'ras app fatal ciod failed to read message prefix on control stream ciostream socket to',\n",
       " 'ras app fatal ciod failed to read message prefix on control stream ciostream socket to',\n",
       " 'ras app fatal ciod failed to read message prefix on control stream ciostream socket to',\n",
       " 'ras app fatal ciod failed to read message prefix on control stream ciostream socket to',\n",
       " 'ras app fatal ciod failed to read message prefix on control stream ciostream socket to',\n",
       " 'ras app fatal ciod failed to read message prefix on control stream ciostream socket to',\n",
       " 'ras app fatal ciod failed to read message prefix on control stream ciostream socket to',\n",
       " 'ras app fatal ciod failed to read message prefix on control stream ciostream socket to',\n",
       " 'ras app fatal ciod failed to read message prefix on control stream ciostream socket to',\n",
       " 'ras app fatal ciod failed to read message prefix on control stream ciostream socket to',\n",
       " 'ras app fatal ciod failed to read message prefix on control stream ciostream socket to',\n",
       " 'ras app fatal ciod failed to read message prefix on control stream ciostream socket to',\n",
       " 'ras app fatal ciod failed to read message prefix on control stream ciostream socket to',\n",
       " 'ras app fatal ciod failed to read message prefix on control stream ciostream socket to',\n",
       " 'nc nc ras app fatal ciod failed to read message prefix on control stream ciostream socket to',\n",
       " 'nc nc ras app fatal ciod failed to read message prefix on control stream ciostream socket to',\n",
       " 'ras app fatal ciod failed to read message prefix on control stream ciostream socket to',\n",
       " 'ras app fatal ciod failed to read message prefix on control stream ciostream socket to',\n",
       " 'ras app fatal ciod failed to read message prefix on control stream ciostream socket to',\n",
       " 'ras app fatal ciod failed to read message prefix on control stream ciostream socket to',\n",
       " 'ras app fatal ciod failed to read message prefix on control stream ciostream socket to',\n",
       " 'ras app fatal ciod failed to read message prefix on control stream ciostream socket to',\n",
       " 'nc nc ras app fatal ciod failed to read message prefix on control stream ciostream socket to',\n",
       " 'nc nc ras app fatal ciod failed to read message prefix on control stream ciostream socket to',\n",
       " 'ras app fatal ciod failed to read message prefix on control stream ciostream socket to',\n",
       " 'ras app fatal ciod failed to read message prefix on control stream ciostream socket to',\n",
       " 'ras app fatal ciod failed to read message prefix on control stream ciostream socket to',\n",
       " 'ras app fatal ciod failed to read message prefix on control stream ciostream socket to',\n",
       " 'ras app fatal ciod failed to read message prefix on control stream ciostream socket to',\n",
       " 'ras app fatal ciod failed to read message prefix on control stream ciostream socket to',\n",
       " 'ras app fatal ciod failed to read message prefix on control stream ciostream socket to',\n",
       " 'ras app fatal ciod failed to read message prefix on control stream ciostream socket to',\n",
       " 'nc nc ras app fatal ciod failed to read message prefix on control stream ciostream socket to',\n",
       " 'nc nc ras app fatal ciod failed to read message prefix on control stream ciostream socket to',\n",
       " 'nc nc ras app fatal ciod failed to read message prefix on control stream ciostream socket to',\n",
       " 'nc nc ras app fatal ciod failed to read message prefix on control stream ciostream socket to',\n",
       " 'ras app fatal ciod failed to read message prefix on control stream ciostream socket to',\n",
       " 'ras app fatal ciod failed to read message prefix on control stream ciostream socket to',\n",
       " 'ras app fatal ciod failed to read message prefix on control stream ciostream socket to',\n",
       " 'ras app fatal ciod failed to read message prefix on control stream ciostream socket to',\n",
       " 'ras app fatal ciod failed to read message prefix on control stream ciostream socket to',\n",
       " 'ras app fatal ciod failed to read message prefix on control stream ciostream socket to',\n",
       " 'ras app fatal ciod failed to read message prefix on control stream ciostream socket to',\n",
       " 'nc nc ras app fatal ciod failed to read message prefix on control stream ciostream socket to',\n",
       " 'nc nc ras app fatal ciod failed to read message prefix on control stream ciostream socket to',\n",
       " 'ras app fatal ciod failed to read message prefix on control stream ciostream socket to',\n",
       " 'ras app fatal ciod failed to read message prefix on control stream ciostream socket to',\n",
       " 'ras app fatal ciod failed to read message prefix on control stream ciostream socket to',\n",
       " 'ras app fatal ciod failed to read message prefix on control stream ciostream socket to',\n",
       " 'ras app fatal ciod failed to read message prefix on control stream ciostream socket to',\n",
       " 'ras app fatal ciod failed to read message prefix on control stream ciostream socket to',\n",
       " 'nc nc ras app fatal ciod failed to read message prefix on control stream ciostream socket to',\n",
       " 'nc nc ras app fatal ciod failed to read message prefix on control stream ciostream socket to',\n",
       " 'ras app fatal ciod failed to read message prefix on control stream ciostream socket to',\n",
       " 'ras app fatal ciod failed to read message prefix on control stream ciostream socket to',\n",
       " 'ras app fatal ciod failed to read message prefix on control stream ciostream socket to',\n",
       " 'ras app fatal ciod failed to read message prefix on control stream ciostream socket to',\n",
       " 'ras app fatal ciod failed to read message prefix on control stream ciostream socket to',\n",
       " 'ras app fatal ciod failed to read message prefix on control stream ciostream socket to',\n",
       " 'nc nc ras app fatal ciod failed to read message prefix on control stream ciostream socket to',\n",
       " 'nc nc ras app fatal ciod failed to read message prefix on control stream ciostream socket to',\n",
       " 'ras app fatal ciod failed to read message prefix on control stream ciostream socket to',\n",
       " 'ras app fatal ciod failed to read message prefix on control stream ciostream socket to',\n",
       " 'ras app fatal ciod failed to read message prefix on control stream ciostream socket to',\n",
       " 'ras app fatal ciod failed to read message prefix on control stream ciostream socket to',\n",
       " 'ras app fatal ciod failed to read message prefix on control stream ciostream socket to',\n",
       " 'ras app fatal ciod failed to read message prefix on control stream ciostream socket to',\n",
       " 'nc nc ras app fatal ciod failed to read message prefix on control stream ciostream socket to',\n",
       " 'nc nc ras app fatal ciod failed to read message prefix on control stream ciostream socket to',\n",
       " 'ras app fatal ciod failed to read message prefix on control stream ciostream socket to',\n",
       " 'ras app fatal ciod failed to read message prefix on control stream ciostream socket to',\n",
       " 'ras app fatal ciod failed to read message prefix on control stream ciostream socket to',\n",
       " 'ras app fatal ciod failed to read message prefix on control stream ciostream socket to',\n",
       " 'ras app fatal ciod failed to read message prefix on control stream ciostream socket to',\n",
       " 'ras app fatal ciod failed to read message prefix on control stream ciostream socket to',\n",
       " 'ras app fatal ciod failed to read message prefix on control stream ciostream socket to',\n",
       " 'ras app fatal ciod failed to read message prefix on control stream ciostream socket to',\n",
       " 'nc nc ras app fatal ciod failed to read message prefix on control stream ciostream socket to',\n",
       " 'nc nc ras app fatal ciod failed to read message prefix on control stream ciostream socket to',\n",
       " 'ras app fatal ciod failed to read message prefix on control stream ciostream socket to',\n",
       " 'ras app fatal ciod failed to read message prefix on control stream ciostream socket to',\n",
       " 'ras app fatal ciod failed to read message prefix on control stream ciostream socket to',\n",
       " 'ras app fatal ciod failed to read message prefix on control stream ciostream socket to',\n",
       " 'nc nc ras app fatal ciod failed to read message prefix on control stream ciostream socket to',\n",
       " 'nc nc ras app fatal ciod failed to read message prefix on control stream ciostream socket to',\n",
       " 'ras app fatal ciod failed to read message prefix on control stream ciostream socket to',\n",
       " 'ras app fatal ciod failed to read message prefix on control stream ciostream socket to',\n",
       " 'ras app fatal ciod failed to read message prefix on control stream ciostream socket to',\n",
       " 'ras app fatal ciod failed to read message prefix on control stream ciostream socket to',\n",
       " 'nc nc ras app fatal ciod failed to read message prefix on control stream ciostream socket to',\n",
       " 'nc nc ras app fatal ciod failed to read message prefix on control stream ciostream socket to',\n",
       " 'ras app fatal ciod failed to read message prefix on control stream ciostream socket to',\n",
       " 'ras app fatal ciod failed to read message prefix on control stream ciostream socket to',\n",
       " 'ras app fatal ciod failed to read message prefix on control stream ciostream socket to',\n",
       " 'ras app fatal ciod failed to read message prefix on control stream ciostream socket to',\n",
       " 'nc nc ras app fatal ciod failed to read message prefix on control stream ciostream socket to',\n",
       " 'nc nc ras app fatal ciod failed to read message prefix on control stream ciostream socket to',\n",
       " 'ras app fatal ciod failed to read message prefix on control stream ciostream socket to',\n",
       " 'ras app fatal ciod failed to read message prefix on control stream ciostream socket to',\n",
       " 'nc nc ras app fatal ciod failed to read message prefix on control stream ciostream socket to',\n",
       " 'nc nc ras app fatal ciod failed to read message prefix on control stream ciostream socket to',\n",
       " 'ras app fatal ciod failed to read message prefix on control stream ciostream socket to',\n",
       " 'ras app fatal ciod failed to read message prefix on control stream ciostream socket to',\n",
       " 'nc nc ras app fatal ciod failed to read message prefix on control stream ciostream socket to',\n",
       " 'nc nc ras app fatal ciod failed to read message prefix on control stream ciostream socket to',\n",
       " 'ras app fatal ciod failed to read message prefix on control stream ciostream socket to',\n",
       " 'ras app fatal ciod failed to read message prefix on control stream ciostream socket to',\n",
       " 'nc nc ras app fatal ciod failed to read message prefix on control stream ciostream socket to',\n",
       " 'nc nc ras app fatal ciod failed to read message prefix on control stream ciostream socket to',\n",
       " 'nc nc ras app fatal ciod failed to read message prefix on control stream ciostream socket to',\n",
       " 'nc nc ras app fatal ciod failed to read message prefix on control stream ciostream socket to',\n",
       " 'ras app fatal ciod failed to read message prefix on control stream ciostream socket to',\n",
       " 'ras app fatal ciod failed to read message prefix on control stream ciostream socket to',\n",
       " 'ras app fatal ciod failed to read message prefix on control stream ciostream socket to',\n",
       " 'ras app fatal ciod failed to read message prefix on control stream ciostream socket to',\n",
       " 'ras app fatal ciod failed to read message prefix on control stream ciostream socket to',\n",
       " 'ras app fatal ciod failed to read message prefix on control stream ciostream socket to',\n",
       " 'ras app fatal ciod failed to read message prefix on control stream ciostream socket to',\n",
       " 'ras app fatal ciod failed to read message prefix on control stream ciostream socket to',\n",
       " 'ras app fatal ciod failed to read message prefix on control stream ciostream socket to',\n",
       " 'ras app fatal ciod failed to read message prefix on control stream ciostream socket to',\n",
       " 'ras app fatal ciod failed to read message prefix on control stream ciostream socket to',\n",
       " 'ras app fatal ciod failed to read message prefix on control stream ciostream socket to',\n",
       " 'ras app fatal ciod failed to read message prefix on control stream ciostream socket to',\n",
       " 'ras app fatal ciod failed to read message prefix on control stream ciostream socket to',\n",
       " 'ras app fatal ciod failed to read message prefix on control stream ciostream socket to',\n",
       " 'ras app fatal ciod failed to read message prefix on control stream ciostream socket to',\n",
       " 'ras app fatal ciod failed to read message prefix on control stream ciostream socket to',\n",
       " 'ras app fatal ciod failed to read message prefix on control stream ciostream socket to',\n",
       " 'ras app fatal ciod failed to read message prefix on control stream ciostream socket to',\n",
       " 'ras app fatal ciod failed to read message prefix on control stream ciostream socket to',\n",
       " 'ras app fatal ciod failed to read message prefix on control stream ciostream socket to',\n",
       " 'ras app fatal ciod failed to read message prefix on control stream ciostream socket to',\n",
       " 'nc nc ras app fatal ciod failed to read message prefix on control stream ciostream socket to',\n",
       " 'nc nc ras app fatal ciod failed to read message prefix on control stream ciostream socket to',\n",
       " 'nc nc ras app fatal ciod failed to read message prefix on control stream ciostream socket to',\n",
       " 'nc nc ras app fatal ciod failed to read message prefix on control stream ciostream socket to',\n",
       " 'ras app fatal ciod failed to read message prefix on control stream ciostream socket to',\n",
       " 'ras app fatal ciod failed to read message prefix on control stream ciostream socket to',\n",
       " 'ras app fatal ciod failed to read message prefix on control stream ciostream socket to',\n",
       " 'ras app fatal ciod failed to read message prefix on control stream ciostream socket to',\n",
       " 'ras app fatal ciod failed to read message prefix on control stream ciostream socket to',\n",
       " 'ras app fatal ciod failed to read message prefix on control stream ciostream socket to',\n",
       " 'ras app fatal ciod failed to read message prefix on control stream ciostream socket to',\n",
       " 'ras app fatal ciod failed to read message prefix on control stream ciostream socket to',\n",
       " 'ras app fatal ciod failed to read message prefix on control stream ciostream socket to',\n",
       " 'ras app fatal ciod failed to read message prefix on control stream ciostream socket to',\n",
       " 'ras app fatal ciod failed to read message prefix on control stream ciostream socket to',\n",
       " 'ras app fatal ciod failed to read message prefix on control stream ciostream socket to',\n",
       " 'ras app fatal ciod failed to read message prefix on control stream ciostream socket to',\n",
       " 'ras app fatal ciod failed to read message prefix on control stream ciostream socket to',\n",
       " 'ras app fatal ciod failed to read message prefix on control stream ciostream socket to',\n",
       " 'ras app fatal ciod failed to read message prefix on control stream ciostream socket to',\n",
       " 'ras app fatal ciod failed to read message prefix on control stream ciostream socket to',\n",
       " 'ras app fatal ciod failed to read message prefix on control stream ciostream socket to',\n",
       " 'ras app fatal ciod failed to read message prefix on control stream ciostream socket to',\n",
       " 'ras app fatal ciod failed to read message prefix on control stream ciostream socket to',\n",
       " 'ras app fatal ciod failed to read message prefix on control stream ciostream socket to',\n",
       " 'ras app fatal ciod failed to read message prefix on control stream ciostream socket to',\n",
       " 'ras app fatal ciod failed to read message prefix on control stream ciostream socket to',\n",
       " 'ras app fatal ciod failed to read message prefix on control stream ciostream socket to',\n",
       " 'ras app fatal ciod failed to read message prefix on control stream ciostream socket to',\n",
       " 'ras app fatal ciod failed to read message prefix on control stream ciostream socket to',\n",
       " 'ras app fatal ciod failed to read message prefix on control stream ciostream socket to',\n",
       " 'ras app fatal ciod failed to read message prefix on control stream ciostream socket to',\n",
       " 'ras app fatal ciod failed to read message prefix on control stream ciostream socket to',\n",
       " 'ras app fatal ciod failed to read message prefix on control stream ciostream socket to',\n",
       " 'ras app fatal ciod failed to read message prefix on control stream ciostream socket to',\n",
       " 'ras app fatal ciod failed to read message prefix on control stream ciostream socket to',\n",
       " 'ras app fatal ciod failed to read message prefix on control stream ciostream socket to',\n",
       " 'ras app fatal ciod failed to read message prefix on control stream ciostream socket to',\n",
       " 'ras app fatal ciod failed to read message prefix on control stream ciostream socket to',\n",
       " 'ras app fatal ciod failed to read message prefix on control stream ciostream socket to',\n",
       " 'ras app fatal ciod failed to read message prefix on control stream ciostream socket to',\n",
       " 'ras app fatal ciod failed to read message prefix on control stream ciostream socket to',\n",
       " 'ras app fatal ciod failed to read message prefix on control stream ciostream socket to',\n",
       " 'ras app fatal ciod failed to read message prefix on control stream ciostream socket to',\n",
       " 'ras app fatal ciod failed to read message prefix on control stream ciostream socket to',\n",
       " 'ras app fatal ciod failed to read message prefix on control stream ciostream socket to',\n",
       " 'ras app fatal ciod failed to read message prefix on control stream ciostream socket to',\n",
       " 'ras app fatal ciod failed to read message prefix on control stream ciostream socket to',\n",
       " 'ras app fatal ciod failed to read message prefix on control stream ciostream socket to',\n",
       " 'ras app fatal ciod failed to read message prefix on control stream ciostream socket to',\n",
       " 'ras app fatal ciod failed to read message prefix on control stream ciostream socket to',\n",
       " 'ras app fatal ciod failed to read message prefix on control stream ciostream socket to',\n",
       " 'ras app fatal ciod failed to read message prefix on control stream ciostream socket to',\n",
       " 'ras app fatal ciod failed to read message prefix on control stream ciostream socket to',\n",
       " 'nc nc ras app fatal ciod failed to read message prefix on control stream ciostream socket to',\n",
       " 'nc nc ras app fatal ciod failed to read message prefix on control stream ciostream socket to',\n",
       " 'nc nc ras app fatal ciod failed to read message prefix on control stream ciostream socket to',\n",
       " 'nc nc ras app fatal ciod failed to read message prefix on control stream ciostream socket to',\n",
       " 'nc nc ras app fatal ciod failed to read message prefix on control stream ciostream socket to',\n",
       " 'nc nc ras app fatal ciod failed to read message prefix on control stream ciostream socket to',\n",
       " 'ras app fatal ciod failed to read message prefix on control stream ciostream socket to',\n",
       " 'ras app fatal ciod failed to read message prefix on control stream ciostream socket to',\n",
       " 'ras app fatal ciod failed to read message prefix on control stream ciostream socket to',\n",
       " 'ras app fatal ciod failed to read message prefix on control stream ciostream socket to',\n",
       " 'ras app fatal ciod failed to read message prefix on control stream ciostream socket to',\n",
       " 'ras app fatal ciod failed to read message prefix on control stream ciostream socket to',\n",
       " 'nc nc ras app fatal ciod failed to read message prefix on control stream ciostream socket to',\n",
       " 'nc nc ras app fatal ciod failed to read message prefix on control stream ciostream socket to',\n",
       " 'ras app fatal ciod failed to read message prefix on control stream ciostream socket to',\n",
       " 'ras app fatal ciod failed to read message prefix on control stream ciostream socket to',\n",
       " 'nc nc ras app fatal ciod failed to read message prefix on control stream ciostream socket to',\n",
       " 'nc nc ras app fatal ciod failed to read message prefix on control stream ciostream socket to',\n",
       " 'ras app fatal ciod failed to read message prefix on control stream ciostream socket to',\n",
       " 'ras app fatal ciod failed to read message prefix on control stream ciostream socket to',\n",
       " 'ras app fatal ciod failed to read message prefix on control stream ciostream socket to',\n",
       " 'ras app fatal ciod failed to read message prefix on control stream ciostream socket to',\n",
       " 'ras app fatal ciod failed to read message prefix on control stream ciostream socket to',\n",
       " 'ras app fatal ciod failed to read message prefix on control stream ciostream socket to',\n",
       " 'ras app fatal ciod failed to read message prefix on control stream ciostream socket to',\n",
       " 'ras app fatal ciod failed to read message prefix on control stream ciostream socket to',\n",
       " 'nc nc ras app fatal ciod failed to read message prefix on control stream ciostream socket to',\n",
       " 'nc nc ras app fatal ciod failed to read message prefix on control stream ciostream socket to',\n",
       " 'ras app fatal ciod failed to read message prefix on control stream ciostream socket to',\n",
       " 'ras app fatal ciod failed to read message prefix on control stream ciostream socket to',\n",
       " 'ras app fatal ciod failed to read message prefix on control stream ciostream socket to',\n",
       " 'ras app fatal ciod failed to read message prefix on control stream ciostream socket to',\n",
       " 'ras app fatal ciod failed to read message prefix on control stream ciostream socket to',\n",
       " 'ras app fatal ciod failed to read message prefix on control stream ciostream socket to',\n",
       " 'ras app fatal ciod failed to read message prefix on control stream ciostream socket to',\n",
       " 'ras app fatal ciod failed to read message prefix on control stream ciostream socket to',\n",
       " 'nc nc ras app fatal ciod failed to read message prefix on control stream ciostream socket to',\n",
       " 'nc nc ras app fatal ciod failed to read message prefix on control stream ciostream socket to',\n",
       " 'ras app fatal ciod failed to read message prefix on control stream ciostream socket to',\n",
       " 'ras app fatal ciod failed to read message prefix on control stream ciostream socket to',\n",
       " 'nc nc ras app fatal ciod failed to read message prefix on control stream ciostream socket to',\n",
       " 'nc nc ras app fatal ciod failed to read message prefix on control stream ciostream socket to',\n",
       " 'nc nc ras app fatal ciod failed to read message prefix on control stream ciostream socket to',\n",
       " 'nc nc ras app fatal ciod failed to read message prefix on control stream ciostream socket to',\n",
       " 'ras app fatal ciod failed to read message prefix on control stream ciostream socket to',\n",
       " 'ras app fatal ciod failed to read message prefix on control stream ciostream socket to',\n",
       " 'nc nc ras app fatal ciod failed to read message prefix on control stream ciostream socket to',\n",
       " 'nc nc ras app fatal ciod failed to read message prefix on control stream ciostream socket to',\n",
       " 'ras app fatal ciod failed to read message prefix on control stream ciostream socket to',\n",
       " 'ras app fatal ciod failed to read message prefix on control stream ciostream socket to',\n",
       " 'ras app fatal ciod failed to read message prefix on control stream ciostream socket to',\n",
       " 'ras app fatal ciod failed to read message prefix on control stream ciostream socket to',\n",
       " 'ras app fatal ciod failed to read message prefix on control stream ciostream socket to',\n",
       " 'ras app fatal ciod failed to read message prefix on control stream ciostream socket to',\n",
       " 'ras app fatal ciod failed to read message prefix on control stream ciostream socket to',\n",
       " 'ras app fatal ciod failed to read message prefix on control stream ciostream socket to',\n",
       " 'ras app fatal ciod failed to read message prefix on control stream ciostream socket to',\n",
       " 'ras app fatal ciod failed to read message prefix on control stream ciostream socket to',\n",
       " 'ras app fatal ciod failed to read message prefix on control stream ciostream socket to',\n",
       " 'ras app fatal ciod failed to read message prefix on control stream ciostream socket to',\n",
       " 'ras app fatal ciod failed to read message prefix on control stream ciostream socket to',\n",
       " 'ras app fatal ciod failed to read message prefix on control stream ciostream socket to',\n",
       " 'ras app fatal ciod failed to read message prefix on control stream ciostream socket to',\n",
       " 'ras app fatal ciod failed to read message prefix on control stream ciostream socket to',\n",
       " 'ras app fatal ciod failed to read message prefix on control stream ciostream socket to',\n",
       " 'ras app fatal ciod failed to read message prefix on control stream ciostream socket to',\n",
       " 'nc nc ras app fatal ciod failed to read message prefix on control stream ciostream socket to',\n",
       " 'nc nc ras app fatal ciod failed to read message prefix on control stream ciostream socket to',\n",
       " 'ras app fatal ciod failed to read message prefix on control stream ciostream socket to',\n",
       " 'ras app fatal ciod failed to read message prefix on control stream ciostream socket to',\n",
       " 'ras app fatal ciod failed to read message prefix on control stream ciostream socket to',\n",
       " 'nc nc ras app fatal ciod failed to read message prefix on control stream ciostream socket to',\n",
       " 'nc nc ras app fatal ciod failed to read message prefix on control stream ciostream socket to',\n",
       " 'ras app fatal ciod failed to read message prefix on control stream ciostream socket to',\n",
       " 'ras app fatal ciod failed to read message prefix on control stream ciostream socket to',\n",
       " 'nc nc ras app fatal ciod failed to read message prefix on control stream ciostream socket to',\n",
       " 'nc nc ras app fatal ciod failed to read message prefix on control stream ciostream socket to',\n",
       " 'nc nc ras app fatal ciod failed to read message prefix on control stream ciostream socket to',\n",
       " 'nc nc ras app fatal ciod failed to read message prefix on control stream ciostream socket to',\n",
       " 'ras app fatal ciod failed to read message prefix on control stream ciostream socket to',\n",
       " 'ras app fatal ciod failed to read message prefix on control stream ciostream socket to',\n",
       " 'nc nc ras app fatal ciod failed to read message prefix on control stream ciostream socket to',\n",
       " 'nc nc ras app fatal ciod failed to read message prefix on control stream ciostream socket to',\n",
       " 'nc nc ras app fatal ciod failed to read message prefix on control stream ciostream socket to',\n",
       " 'nc nc ras app fatal ciod failed to read message prefix on control stream ciostream socket to',\n",
       " 'ras app fatal ciod failed to read message prefix on control stream ciostream socket to',\n",
       " 'ras app fatal ciod failed to read message prefix on control stream ciostream socket to',\n",
       " 'ras app fatal ciod failed to read message prefix on control stream ciostream socket to',\n",
       " 'ras app fatal ciod failed to read message prefix on control stream ciostream socket to',\n",
       " 'ras app fatal ciod failed to read message prefix on control stream ciostream socket to',\n",
       " 'ras app fatal ciod failed to read message prefix on control stream ciostream socket to',\n",
       " 'ras app fatal ciod failed to read message prefix on control stream ciostream socket to',\n",
       " 'ras app fatal ciod failed to read message prefix on control stream ciostream socket to',\n",
       " 'ras app fatal ciod failed to read message prefix on control stream ciostream socket to',\n",
       " 'ras app fatal ciod failed to read message prefix on control stream ciostream socket to',\n",
       " 'ras app fatal ciod failed to read message prefix on control stream ciostream socket to',\n",
       " 'ras app fatal ciod failed to read message prefix on control stream ciostream socket to',\n",
       " 'nc nc ras app fatal ciod failed to read message prefix on control stream ciostream socket to',\n",
       " 'nc nc ras app fatal ciod failed to read message prefix on control stream ciostream socket to',\n",
       " 'nc nc ras app fatal ciod failed to read message prefix on control stream ciostream socket to',\n",
       " 'nc nc ras app fatal ciod failed to read message prefix on control stream ciostream socket to',\n",
       " 'ras app fatal ciod failed to read message prefix on control stream ciostream socket to',\n",
       " 'ras app fatal ciod failed to read message prefix on control stream ciostream socket to',\n",
       " 'nc nc ras app fatal ciod failed to read message prefix on control stream ciostream socket to',\n",
       " 'nc nc ras app fatal ciod failed to read message prefix on control stream ciostream socket to',\n",
       " 'ras app fatal ciod failed to read message prefix on control stream ciostream socket to',\n",
       " 'ras app fatal ciod failed to read message prefix on control stream ciostream socket to',\n",
       " 'nc nc ras app fatal ciod failed to read message prefix on control stream ciostream socket to',\n",
       " 'nc nc ras app fatal ciod failed to read message prefix on control stream ciostream socket to',\n",
       " 'nc nc ras app fatal ciod failed to read message prefix on control stream ciostream socket to',\n",
       " 'nc nc ras app fatal ciod failed to read message prefix on control stream ciostream socket to',\n",
       " 'ras app fatal ciod failed to read message prefix on control stream ciostream socket to',\n",
       " 'ras app fatal ciod failed to read message prefix on control stream ciostream socket to',\n",
       " 'ras app fatal ciod failed to read message prefix on control stream ciostream socket to',\n",
       " 'ras app fatal ciod failed to read message prefix on control stream ciostream socket to',\n",
       " 'ras app fatal ciod failed to read message prefix on control stream ciostream socket to',\n",
       " 'ras app fatal ciod failed to read message prefix on control stream ciostream socket to',\n",
       " 'ras app fatal ciod failed to read message prefix on control stream ciostream socket to',\n",
       " 'ras app fatal ciod failed to read message prefix on control stream ciostream socket to',\n",
       " 'ras app fatal ciod failed to read message prefix on control stream ciostream socket to',\n",
       " 'ras app fatal ciod failed to read message prefix on control stream ciostream socket to',\n",
       " 'ras app fatal ciod failed to read message prefix on control stream ciostream socket to',\n",
       " 'ras app fatal ciod failed to read message prefix on control stream ciostream socket to',\n",
       " 'ras app fatal ciod failed to read message prefix on control stream ciostream socket to',\n",
       " 'ras app fatal ciod failed to read message prefix on control stream ciostream socket to',\n",
       " 'ras app fatal ciod failed to read message prefix on control stream ciostream socket to',\n",
       " 'ras app fatal ciod failed to read message prefix on control stream ciostream socket to',\n",
       " 'ras app fatal ciod failed to read message prefix on control stream ciostream socket to',\n",
       " 'ras app fatal ciod failed to read message prefix on control stream ciostream socket to',\n",
       " 'ras app fatal ciod failed to read message prefix on control stream ciostream socket to',\n",
       " 'ras app fatal ciod failed to read message prefix on control stream ciostream socket to',\n",
       " 'ras app fatal ciod failed to read message prefix on control stream ciostream socket to',\n",
       " 'ras app fatal ciod failed to read message prefix on control stream ciostream socket to',\n",
       " 'nc nc ras app fatal ciod failed to read message prefix on control stream ciostream socket to',\n",
       " 'nc nc ras app fatal ciod failed to read message prefix on control stream ciostream socket to',\n",
       " 'ras app fatal ciod failed to read message prefix on control stream ciostream socket to',\n",
       " 'ras app fatal ciod failed to read message prefix on control stream ciostream socket to',\n",
       " 'nc nc ras app fatal ciod failed to read message prefix on control stream ciostream socket to',\n",
       " 'nc nc ras app fatal ciod failed to read message prefix on control stream ciostream socket to',\n",
       " 'ras app fatal ciod failed to read message prefix on control stream ciostream socket to',\n",
       " 'ras app fatal ciod failed to read message prefix on control stream ciostream socket to',\n",
       " 'ras app fatal ciod failed to read message prefix on control stream ciostream socket to',\n",
       " 'ras app fatal ciod failed to read message prefix on control stream ciostream socket to',\n",
       " 'ras app fatal ciod failed to read message prefix on control stream ciostream socket to',\n",
       " 'ras app fatal ciod failed to read message prefix on control stream ciostream socket to',\n",
       " 'ras app fatal ciod failed to read message prefix on control stream ciostream socket to',\n",
       " 'ras app fatal ciod failed to read message prefix on control stream ciostream socket to',\n",
       " 'nc nc ras app fatal ciod failed to read message prefix on control stream ciostream socket to',\n",
       " 'nc nc ras app fatal ciod failed to read message prefix on control stream ciostream socket to',\n",
       " 'nc nc ras app fatal ciod failed to read message prefix on control stream ciostream socket to',\n",
       " 'nc nc ras app fatal ciod failed to read message prefix on control stream ciostream socket to',\n",
       " 'ras app fatal ciod failed to read message prefix on control stream ciostream socket to',\n",
       " 'ras app fatal ciod failed to read message prefix on control stream ciostream socket to',\n",
       " 'ras app fatal ciod failed to read message prefix on control stream ciostream socket to',\n",
       " 'ras app fatal ciod failed to read message prefix on control stream ciostream socket to',\n",
       " 'nc nc ras app fatal ciod failed to read message prefix on control stream ciostream socket to',\n",
       " 'nc nc ras app fatal ciod failed to read message prefix on control stream ciostream socket to',\n",
       " 'ras app fatal ciod failed to read message prefix on control stream ciostream socket to',\n",
       " 'ras app fatal ciod failed to read message prefix on control stream ciostream socket to',\n",
       " 'ras app fatal ciod failed to read message prefix on control stream ciostream socket to',\n",
       " 'ras app fatal ciod failed to read message prefix on control stream ciostream socket to',\n",
       " 'ras app fatal ciod failed to read message prefix on control stream ciostream socket to',\n",
       " 'ras app fatal ciod failed to read message prefix on control stream ciostream socket to',\n",
       " 'ras app fatal ciod failed to read message prefix on control stream ciostream socket to',\n",
       " 'ras app fatal ciod failed to read message prefix on control stream ciostream socket to',\n",
       " 'ras app fatal ciod failed to read message prefix on control stream ciostream socket to',\n",
       " 'ras app fatal ciod failed to read message prefix on control stream ciostream socket to',\n",
       " 'nc nc ras app fatal ciod failed to read message prefix on control stream ciostream socket to',\n",
       " 'nc nc ras app fatal ciod failed to read message prefix on control stream ciostream socket to',\n",
       " 'ras app fatal ciod failed to read message prefix on control stream ciostream socket to',\n",
       " 'ras app fatal ciod failed to read message prefix on control stream ciostream socket to',\n",
       " 'ras app fatal ciod failed to read message prefix on control stream ciostream socket to',\n",
       " 'ras app fatal ciod failed to read message prefix on control stream ciostream socket to',\n",
       " 'ras app fatal ciod failed to read message prefix on control stream ciostream socket to',\n",
       " 'ras app fatal ciod failed to read message prefix on control stream ciostream socket to',\n",
       " 'ras app fatal ciod failed to read message prefix on control stream ciostream socket to',\n",
       " 'ras app fatal ciod failed to read message prefix on control stream ciostream socket to',\n",
       " 'nc nc ras app fatal ciod failed to read message prefix on control stream ciostream socket to',\n",
       " 'nc nc ras app fatal ciod failed to read message prefix on control stream ciostream socket to',\n",
       " 'ras app fatal ciod failed to read message prefix on control stream ciostream socket to',\n",
       " 'ras app fatal ciod failed to read message prefix on control stream ciostream socket to',\n",
       " 'nc nc ras app fatal ciod failed to read message prefix on control stream ciostream socket to',\n",
       " 'nc nc ras app fatal ciod failed to read message prefix on control stream ciostream socket to',\n",
       " 'ras app fatal ciod failed to read message prefix on control stream ciostream socket to',\n",
       " 'ras app fatal ciod failed to read message prefix on control stream ciostream socket to',\n",
       " 'ras app fatal ciod failed to read message prefix on control stream ciostream socket to',\n",
       " 'ras app fatal ciod failed to read message prefix on control stream ciostream socket to',\n",
       " 'ras app fatal ciod failed to read message prefix on control stream ciostream socket to',\n",
       " 'ras app fatal ciod failed to read message prefix on control stream ciostream socket to',\n",
       " 'ras app fatal ciod failed to read message prefix on control stream ciostream socket to',\n",
       " 'ras app fatal ciod failed to read message prefix on control stream ciostream socket to',\n",
       " 'nc nc ras app fatal ciod failed to read message prefix on control stream ciostream socket to',\n",
       " 'nc nc ras app fatal ciod failed to read message prefix on control stream ciostream socket to',\n",
       " 'ras app fatal ciod failed to read message prefix on control stream ciostream socket to',\n",
       " 'ras app fatal ciod failed to read message prefix on control stream ciostream socket to',\n",
       " 'ras app fatal ciod failed to read message prefix on control stream ciostream socket to',\n",
       " 'ras app fatal ciod failed to read message prefix on control stream ciostream socket to',\n",
       " 'nc nc ras app fatal ciod failed to read message prefix on control stream ciostream socket to',\n",
       " 'nc nc ras app fatal ciod failed to read message prefix on control stream ciostream socket to',\n",
       " 'ras app fatal ciod failed to read message prefix on control stream ciostream socket to',\n",
       " 'ras app fatal ciod failed to read message prefix on control stream ciostream socket to',\n",
       " 'ras app fatal ciod failed to read message prefix on control stream ciostream socket to',\n",
       " 'ras app fatal ciod failed to read message prefix on control stream ciostream socket to',\n",
       " 'ras app fatal ciod failed to read message prefix on control stream ciostream socket to',\n",
       " 'ras app fatal ciod failed to read message prefix on control stream ciostream socket to',\n",
       " 'ras app fatal ciod failed to read message prefix on control stream ciostream socket to',\n",
       " 'ras app fatal ciod failed to read message prefix on control stream ciostream socket to',\n",
       " 'ras app fatal ciod failed to read message prefix on control stream ciostream socket to',\n",
       " 'ras app fatal ciod failed to read message prefix on control stream ciostream socket to',\n",
       " 'ras app fatal ciod failed to read message prefix on control stream ciostream socket to',\n",
       " 'ras app fatal ciod failed to read message prefix on control stream ciostream socket to',\n",
       " 'nc nc ras app fatal ciod failed to read message prefix on control stream ciostream socket to',\n",
       " 'nc nc ras app fatal ciod failed to read message prefix on control stream ciostream socket to',\n",
       " 'ras app fatal ciod failed to read message prefix on control stream ciostream socket to',\n",
       " 'ras app fatal ciod failed to read message prefix on control stream ciostream socket to',\n",
       " 'ras app fatal ciod failed to read message prefix on control stream ciostream socket to',\n",
       " 'ras app fatal ciod failed to read message prefix on control stream ciostream socket to',\n",
       " 'nc nc ras app fatal ciod failed to read message prefix on control stream ciostream socket to',\n",
       " 'nc nc ras app fatal ciod failed to read message prefix on control stream ciostream socket to',\n",
       " 'ras app fatal ciod failed to read message prefix on control stream ciostream socket to',\n",
       " 'ras app fatal ciod failed to read message prefix on control stream ciostream socket to',\n",
       " 'ras app fatal ciod failed to read message prefix on control stream ciostream socket to',\n",
       " 'ras app fatal ciod failed to read message prefix on control stream ciostream socket to',\n",
       " 'ras app fatal ciod failed to read message prefix on control stream ciostream socket to',\n",
       " 'ras app fatal ciod failed to read message prefix on control stream ciostream socket to',\n",
       " 'ras app fatal ciod failed to read message prefix on control stream ciostream socket to',\n",
       " 'ras app fatal ciod failed to read message prefix on control stream ciostream socket to',\n",
       " 'ras app fatal ciod failed to read message prefix on control stream ciostream socket to',\n",
       " 'ras app fatal ciod failed to read message prefix on control stream ciostream socket to',\n",
       " 'nc nc ras app fatal ciod failed to read message prefix on control stream ciostream socket to',\n",
       " 'nc nc ras app fatal ciod failed to read message prefix on control stream ciostream socket to',\n",
       " 'ras app fatal ciod failed to read message prefix on control stream ciostream socket to',\n",
       " 'ras app fatal ciod failed to read message prefix on control stream ciostream socket to',\n",
       " 'ras app fatal ciod failed to read message prefix on control stream ciostream socket to',\n",
       " 'ras app fatal ciod failed to read message prefix on control stream ciostream socket to',\n",
       " 'nc nc ras app fatal ciod failed to read message prefix on control stream ciostream socket to',\n",
       " 'nc nc ras app fatal ciod failed to read message prefix on control stream ciostream socket to',\n",
       " 'nc nc ras app fatal ciod failed to read message prefix on control stream ciostream socket to',\n",
       " 'nc nc ras app fatal ciod failed to read message prefix on control stream ciostream socket to',\n",
       " 'ras app fatal ciod failed to read message prefix on control stream ciostream socket to',\n",
       " 'ras app fatal ciod failed to read message prefix on control stream ciostream socket to',\n",
       " 'nc nc ras app fatal ciod failed to read message prefix on control stream ciostream socket to',\n",
       " 'nc nc ras app fatal ciod failed to read message prefix on control stream ciostream socket to',\n",
       " 'ras app fatal ciod failed to read message prefix on control stream ciostream socket to',\n",
       " 'ras app fatal ciod failed to read message prefix on control stream ciostream socket to',\n",
       " 'nc nc ras app fatal ciod failed to read message prefix on control stream ciostream socket to',\n",
       " 'nc nc ras app fatal ciod failed to read message prefix on control stream ciostream socket to',\n",
       " 'ras app fatal ciod failed to read message prefix on control stream ciostream socket to',\n",
       " 'ras app fatal ciod failed to read message prefix on control stream ciostream socket to',\n",
       " 'ras app fatal ciod failed to read message prefix on control stream ciostream socket to',\n",
       " 'ras app fatal ciod failed to read message prefix on control stream ciostream socket to',\n",
       " 'ras app fatal ciod failed to read message prefix on control stream ciostream socket to',\n",
       " 'ras app fatal ciod failed to read message prefix on control stream ciostream socket to',\n",
       " 'ras app fatal ciod failed to read message prefix on control stream ciostream socket to',\n",
       " 'ras app fatal ciod failed to read message prefix on control stream ciostream socket to',\n",
       " 'ras app fatal ciod failed to read message prefix on control stream ciostream socket to',\n",
       " 'ras app fatal ciod failed to read message prefix on control stream ciostream socket to',\n",
       " 'ras app fatal ciod failed to read message prefix on control stream ciostream socket to',\n",
       " 'ras app fatal ciod failed to read message prefix on control stream ciostream socket to',\n",
       " 'ras app fatal ciod failed to read message prefix on control stream ciostream socket to',\n",
       " 'ras app fatal ciod failed to read message prefix on control stream ciostream socket to',\n",
       " 'ras app fatal ciod failed to read message prefix on control stream ciostream socket to',\n",
       " 'ras app fatal ciod failed to read message prefix on control stream ciostream socket to',\n",
       " 'ras app fatal ciod failed to read message prefix on control stream ciostream socket to',\n",
       " 'ras app fatal ciod failed to read message prefix on control stream ciostream socket to',\n",
       " 'ras app fatal ciod failed to read message prefix on control stream ciostream socket to',\n",
       " 'ras app fatal ciod failed to read message prefix on control stream ciostream socket to',\n",
       " 'ras app fatal ciod failed to read message prefix on control stream ciostream socket to',\n",
       " 'ras app fatal ciod failed to read message prefix on control stream ciostream socket to',\n",
       " 'nc nc ras app fatal ciod failed to read message prefix on control stream ciostream socket to',\n",
       " 'nc nc ras app fatal ciod failed to read message prefix on control stream ciostream socket to',\n",
       " 'ras app fatal ciod failed to read message prefix on control stream ciostream socket to',\n",
       " 'ras app fatal ciod failed to read message prefix on control stream ciostream socket to',\n",
       " 'ras app fatal ciod failed to read message prefix on control stream ciostream socket to',\n",
       " 'ras app fatal ciod failed to read message prefix on control stream ciostream socket to',\n",
       " 'ras app fatal ciod failed to read message prefix on control stream ciostream socket to',\n",
       " 'ras app fatal ciod failed to read message prefix on control stream ciostream socket to',\n",
       " 'ras app fatal ciod failed to read message prefix on control stream ciostream socket to',\n",
       " 'ras app fatal ciod failed to read message prefix on control stream ciostream socket to',\n",
       " 'nc nc ras app fatal ciod failed to read message prefix on control stream ciostream socket to',\n",
       " 'nc nc ras app fatal ciod failed to read message prefix on control stream ciostream socket to',\n",
       " 'nc nc ras app fatal ciod failed to read message prefix on control stream ciostream socket to',\n",
       " 'nc nc ras app fatal ciod failed to read message prefix on control stream ciostream socket to',\n",
       " 'ras app fatal ciod failed to read message prefix on control stream ciostream socket to',\n",
       " 'ras app fatal ciod failed to read message prefix on control stream ciostream socket to',\n",
       " 'ras app fatal ciod failed to read message prefix on control stream ciostream socket to',\n",
       " 'ras app fatal ciod failed to read message prefix on control stream ciostream socket to',\n",
       " 'ras app fatal ciod failed to read message prefix on control stream ciostream socket to',\n",
       " 'ras app fatal ciod failed to read message prefix on control stream ciostream socket to',\n",
       " 'ras app fatal ciod failed to read message prefix on control stream ciostream socket to',\n",
       " 'ras app fatal ciod failed to read message prefix on control stream ciostream socket to',\n",
       " 'nc nc ras app fatal ciod failed to read message prefix on control stream ciostream socket to',\n",
       " 'nc nc ras app fatal ciod failed to read message prefix on control stream ciostream socket to',\n",
       " 'ras app fatal ciod failed to read message prefix on control stream ciostream socket to',\n",
       " 'ras app fatal ciod failed to read message prefix on control stream ciostream socket to',\n",
       " 'nc nc ras app fatal ciod failed to read message prefix on control stream ciostream socket to',\n",
       " 'nc nc ras app fatal ciod failed to read message prefix on control stream ciostream socket to',\n",
       " 'ras app fatal ciod failed to read message prefix on control stream ciostream socket to',\n",
       " 'ras app fatal ciod failed to read message prefix on control stream ciostream socket to',\n",
       " 'nc nc ras app fatal ciod failed to read message prefix on control stream ciostream socket to',\n",
       " 'nc nc ras app fatal ciod failed to read message prefix on control stream ciostream socket to',\n",
       " 'ras app fatal ciod failed to read message prefix on control stream ciostream socket to',\n",
       " 'ras app fatal ciod failed to read message prefix on control stream ciostream socket to',\n",
       " 'ras app fatal ciod failed to read message prefix on control stream ciostream socket to',\n",
       " 'ras app fatal ciod failed to read message prefix on control stream ciostream socket to',\n",
       " 'ras app fatal ciod failed to read message prefix on control stream ciostream socket to',\n",
       " 'ras app fatal ciod failed to read message prefix on control stream ciostream socket to',\n",
       " 'ras app fatal ciod failed to read message prefix on control stream ciostream socket to',\n",
       " 'ras app fatal ciod failed to read message prefix on control stream ciostream socket to',\n",
       " 'ras app fatal ciod failed to read message prefix on control stream ciostream socket to',\n",
       " 'ras app fatal ciod failed to read message prefix on control stream ciostream socket to',\n",
       " 'ras app fatal ciod failed to read message prefix on control stream ciostream socket to',\n",
       " 'ras app fatal ciod failed to read message prefix on control stream ciostream socket to',\n",
       " 'ras app fatal ciod failed to read message prefix on control stream ciostream socket to',\n",
       " 'ras app fatal ciod failed to read message prefix on control stream ciostream socket to',\n",
       " 'ras app fatal ciod failed to read message prefix on control stream ciostream socket to',\n",
       " 'ras app fatal ciod failed to read message prefix on control stream ciostream socket to',\n",
       " 'nc nc ras app fatal ciod failed to read message prefix on control stream ciostream socket to',\n",
       " 'nc nc ras app fatal ciod failed to read message prefix on control stream ciostream socket to',\n",
       " 'ras app fatal ciod failed to read message prefix on control stream ciostream socket to',\n",
       " 'ras app fatal ciod failed to read message prefix on control stream ciostream socket to',\n",
       " 'nc nc ras app fatal ciod failed to read message prefix on control stream ciostream socket to',\n",
       " 'nc nc ras app fatal ciod failed to read message prefix on control stream ciostream socket to',\n",
       " 'ras app fatal ciod failed to read message prefix on control stream ciostream socket to',\n",
       " 'ras app fatal ciod failed to read message prefix on control stream ciostream socket to',\n",
       " 'ras app fatal ciod failed to read message prefix on control stream ciostream socket to',\n",
       " 'ras app fatal ciod failed to read message prefix on control stream ciostream socket to',\n",
       " 'ras app fatal ciod failed to read message prefix on control stream ciostream socket to',\n",
       " 'ras app fatal ciod failed to read message prefix on control stream ciostream socket to',\n",
       " 'ras app fatal ciod failed to read message prefix on control stream ciostream socket to',\n",
       " 'ras app fatal ciod failed to read message prefix on control stream ciostream socket to',\n",
       " 'ras app fatal ciod failed to read message prefix on control stream ciostream socket to',\n",
       " 'ras app fatal ciod failed to read message prefix on control stream ciostream socket to',\n",
       " 'ras app fatal ciod failed to read message prefix on control stream ciostream socket to',\n",
       " 'ras app fatal ciod failed to read message prefix on control stream ciostream socket to',\n",
       " 'ras app fatal ciod failed to read message prefix on control stream ciostream socket to',\n",
       " 'ras app fatal ciod failed to read message prefix on control stream ciostream socket to',\n",
       " 'nc nc ras app fatal ciod failed to read message prefix on control stream ciostream socket to',\n",
       " 'nc nc ras app fatal ciod failed to read message prefix on control stream ciostream socket to',\n",
       " ...]"
      ]
     },
     "execution_count": 10,
     "metadata": {},
     "output_type": "execute_result"
    }
   ],
   "source": [
    "X_res = list(X_res['Logs'])\n",
    "X_res"
   ]
  },
  {
   "cell_type": "code",
   "execution_count": 11,
   "id": "8054657b",
   "metadata": {
    "execution": {
     "iopub.execute_input": "2022-12-19T08:23:43.090192Z",
     "iopub.status.busy": "2022-12-19T08:23:43.089342Z",
     "iopub.status.idle": "2022-12-19T08:23:43.095635Z",
     "shell.execute_reply": "2022-12-19T08:23:43.094686Z"
    },
    "papermill": {
     "duration": 0.023952,
     "end_time": "2022-12-19T08:23:43.098244",
     "exception": false,
     "start_time": "2022-12-19T08:23:43.074292",
     "status": "completed"
    },
    "tags": []
   },
   "outputs": [
    {
     "data": {
      "text/plain": [
       "pandas.core.series.Series"
      ]
     },
     "execution_count": 11,
     "metadata": {},
     "output_type": "execute_result"
    }
   ],
   "source": [
    "type(y)"
   ]
  },
  {
   "cell_type": "code",
   "execution_count": 12,
   "id": "7b202188",
   "metadata": {
    "execution": {
     "iopub.execute_input": "2022-12-19T08:23:43.127585Z",
     "iopub.status.busy": "2022-12-19T08:23:43.126798Z",
     "iopub.status.idle": "2022-12-19T08:23:43.154289Z",
     "shell.execute_reply": "2022-12-19T08:23:43.153312Z"
    },
    "papermill": {
     "duration": 0.044739,
     "end_time": "2022-12-19T08:23:43.156688",
     "exception": false,
     "start_time": "2022-12-19T08:23:43.111949",
     "status": "completed"
    },
    "tags": []
   },
   "outputs": [],
   "source": [
    "y_res = np.array(list(y_res))"
   ]
  },
  {
   "cell_type": "code",
   "execution_count": 13,
   "id": "a624dce6",
   "metadata": {
    "execution": {
     "iopub.execute_input": "2022-12-19T08:23:43.186128Z",
     "iopub.status.busy": "2022-12-19T08:23:43.185198Z",
     "iopub.status.idle": "2022-12-19T08:23:43.233272Z",
     "shell.execute_reply": "2022-12-19T08:23:43.232026Z"
    },
    "papermill": {
     "duration": 0.06547,
     "end_time": "2022-12-19T08:23:43.235732",
     "exception": false,
     "start_time": "2022-12-19T08:23:43.170262",
     "status": "completed"
    },
    "tags": []
   },
   "outputs": [
    {
     "data": {
      "text/plain": [
       "104538"
      ]
     },
     "execution_count": 13,
     "metadata": {},
     "output_type": "execute_result"
    }
   ],
   "source": [
    "X_train, X_test, y_train, y_test = train_test_split(X_res, y_res, test_size=0.25, random_state=42)\n",
    "len(X_train)"
   ]
  },
  {
   "cell_type": "code",
   "execution_count": 14,
   "id": "2686d348",
   "metadata": {
    "execution": {
     "iopub.execute_input": "2022-12-19T08:23:43.264640Z",
     "iopub.status.busy": "2022-12-19T08:23:43.264261Z",
     "iopub.status.idle": "2022-12-19T08:23:46.314069Z",
     "shell.execute_reply": "2022-12-19T08:23:46.313021Z"
    },
    "papermill": {
     "duration": 3.067369,
     "end_time": "2022-12-19T08:23:46.316750",
     "exception": false,
     "start_time": "2022-12-19T08:23:43.249381",
     "status": "completed"
    },
    "tags": []
   },
   "outputs": [
    {
     "data": {
      "text/plain": [
       "104538"
      ]
     },
     "execution_count": 14,
     "metadata": {},
     "output_type": "execute_result"
    }
   ],
   "source": [
    "tokenizer = Tokenizer(num_words=5000)\n",
    "tokenizer.fit_on_texts(X_train)\n",
    "\n",
    "X_train = tokenizer.texts_to_sequences(X_train)\n",
    "X_test = tokenizer.texts_to_sequences(X_test)\n",
    "\n",
    "len(X_train)"
   ]
  },
  {
   "cell_type": "code",
   "execution_count": 15,
   "id": "9d011fc6",
   "metadata": {
    "execution": {
     "iopub.execute_input": "2022-12-19T08:23:46.346835Z",
     "iopub.status.busy": "2022-12-19T08:23:46.346148Z",
     "iopub.status.idle": "2022-12-19T08:23:46.762860Z",
     "shell.execute_reply": "2022-12-19T08:23:46.761973Z"
    },
    "papermill": {
     "duration": 0.434088,
     "end_time": "2022-12-19T08:23:46.765232",
     "exception": false,
     "start_time": "2022-12-19T08:23:46.331144",
     "status": "completed"
    },
    "tags": []
   },
   "outputs": [
    {
     "data": {
      "text/plain": [
       "104538"
      ]
     },
     "execution_count": 15,
     "metadata": {},
     "output_type": "execute_result"
    }
   ],
   "source": [
    "vocab_size = len(tokenizer.word_index) + 1\n",
    "maxlen = 100\n",
    "X_train = pad_sequences(X_train, padding='post', maxlen=maxlen)\n",
    "X_test = pad_sequences(X_test, padding='post', maxlen=maxlen)\n",
    "len(X_train)"
   ]
  },
  {
   "cell_type": "code",
   "execution_count": 16,
   "id": "c35e0913",
   "metadata": {
    "execution": {
     "iopub.execute_input": "2022-12-19T08:23:46.795454Z",
     "iopub.status.busy": "2022-12-19T08:23:46.794736Z",
     "iopub.status.idle": "2022-12-19T08:23:56.979474Z",
     "shell.execute_reply": "2022-12-19T08:23:56.978485Z"
    },
    "papermill": {
     "duration": 10.203012,
     "end_time": "2022-12-19T08:23:56.982256",
     "exception": false,
     "start_time": "2022-12-19T08:23:46.779244",
     "status": "completed"
    },
    "tags": []
   },
   "outputs": [],
   "source": [
    "from numpy import array\n",
    "from numpy import asarray\n",
    "from numpy import zeros\n",
    "\n",
    "embeddings_dictionary = dict()\n",
    "glove_file = open('/kaggle/input/glove-global-vectors-for-word-representation/glove.6B.100d.txt', encoding=\"utf8\")\n",
    "\n",
    "for line in glove_file:\n",
    "    records = line.split()\n",
    "    word = records[0]\n",
    "    vector_dimensions = asarray(records[1:], dtype='float32')\n",
    "    embeddings_dictionary [word] = vector_dimensions\n",
    "glove_file.close()"
   ]
  },
  {
   "cell_type": "code",
   "execution_count": 17,
   "id": "1841dc4c",
   "metadata": {
    "execution": {
     "iopub.execute_input": "2022-12-19T08:23:57.019819Z",
     "iopub.status.busy": "2022-12-19T08:23:57.019135Z",
     "iopub.status.idle": "2022-12-19T08:23:57.026572Z",
     "shell.execute_reply": "2022-12-19T08:23:57.025775Z"
    },
    "papermill": {
     "duration": 0.027905,
     "end_time": "2022-12-19T08:23:57.028666",
     "exception": false,
     "start_time": "2022-12-19T08:23:57.000761",
     "status": "completed"
    },
    "tags": []
   },
   "outputs": [],
   "source": [
    "embedding_matrix = zeros((vocab_size, 100))\n",
    "for word, index in tokenizer.word_index.items():\n",
    "    embedding_vector = embeddings_dictionary.get(word)\n",
    "    if embedding_vector is not None:\n",
    "        embedding_matrix[index] = embedding_vector"
   ]
  },
  {
   "cell_type": "code",
   "execution_count": 18,
   "id": "312a14fe",
   "metadata": {
    "execution": {
     "iopub.execute_input": "2022-12-19T08:23:57.058994Z",
     "iopub.status.busy": "2022-12-19T08:23:57.058297Z",
     "iopub.status.idle": "2022-12-19T08:23:57.062610Z",
     "shell.execute_reply": "2022-12-19T08:23:57.061737Z"
    },
    "papermill": {
     "duration": 0.021639,
     "end_time": "2022-12-19T08:23:57.064763",
     "exception": false,
     "start_time": "2022-12-19T08:23:57.043124",
     "status": "completed"
    },
    "tags": []
   },
   "outputs": [],
   "source": [
    "import tensorflow as tf"
   ]
  },
  {
   "cell_type": "code",
   "execution_count": 19,
   "id": "cce5d981",
   "metadata": {
    "execution": {
     "iopub.execute_input": "2022-12-19T08:23:57.093503Z",
     "iopub.status.busy": "2022-12-19T08:23:57.093100Z",
     "iopub.status.idle": "2022-12-19T08:23:57.205674Z",
     "shell.execute_reply": "2022-12-19T08:23:57.204501Z"
    },
    "papermill": {
     "duration": 0.129802,
     "end_time": "2022-12-19T08:23:57.208189",
     "exception": false,
     "start_time": "2022-12-19T08:23:57.078387",
     "status": "completed"
    },
    "tags": []
   },
   "outputs": [
    {
     "name": "stderr",
     "output_type": "stream",
     "text": [
      "2022-12-19 08:23:57.128447: I tensorflow/core/common_runtime/process_util.cc:146] Creating new thread pool with default inter op setting: 2. Tune using inter_op_parallelism_threads for best performance.\n"
     ]
    }
   ],
   "source": [
    "model = Sequential()\n",
    "embedding_layer = Embedding(vocab_size, 100, input_length=maxlen)\n",
    "model.add(embedding_layer)\n",
    "\n",
    "model.add(keras.layers.Lambda(lambda x: keras.backend.mean(x, axis=1)))\n",
    "model.add(Dense(1, activation='sigmoid', kernel_regularizer=keras.regularizers.l1(0.01)))"
   ]
  },
  {
   "cell_type": "code",
   "execution_count": 20,
   "id": "90a2dafa",
   "metadata": {
    "execution": {
     "iopub.execute_input": "2022-12-19T08:23:57.237866Z",
     "iopub.status.busy": "2022-12-19T08:23:57.237460Z",
     "iopub.status.idle": "2022-12-19T08:23:57.252954Z",
     "shell.execute_reply": "2022-12-19T08:23:57.251499Z"
    },
    "papermill": {
     "duration": 0.033279,
     "end_time": "2022-12-19T08:23:57.255453",
     "exception": false,
     "start_time": "2022-12-19T08:23:57.222174",
     "status": "completed"
    },
    "tags": []
   },
   "outputs": [
    {
     "name": "stdout",
     "output_type": "stream",
     "text": [
      "Model: \"sequential\"\n",
      "_________________________________________________________________\n",
      "Layer (type)                 Output Shape              Param #   \n",
      "=================================================================\n",
      "embedding (Embedding)        (None, 100, 100)          111500    \n",
      "_________________________________________________________________\n",
      "lambda (Lambda)              (None, 100)               0         \n",
      "_________________________________________________________________\n",
      "dense (Dense)                (None, 1)                 101       \n",
      "=================================================================\n",
      "Total params: 111,601\n",
      "Trainable params: 111,601\n",
      "Non-trainable params: 0\n",
      "_________________________________________________________________\n",
      "None\n"
     ]
    }
   ],
   "source": [
    "model.compile(optimizer='adam', loss='binary_crossentropy', metrics=['acc'])\n",
    "\n",
    "print(model.summary())"
   ]
  },
  {
   "cell_type": "code",
   "execution_count": 21,
   "id": "328b86d4",
   "metadata": {
    "execution": {
     "iopub.execute_input": "2022-12-19T08:23:57.285190Z",
     "iopub.status.busy": "2022-12-19T08:23:57.284731Z",
     "iopub.status.idle": "2022-12-19T08:24:14.278986Z",
     "shell.execute_reply": "2022-12-19T08:24:14.277801Z"
    },
    "papermill": {
     "duration": 17.011928,
     "end_time": "2022-12-19T08:24:14.281414",
     "exception": false,
     "start_time": "2022-12-19T08:23:57.269486",
     "status": "completed"
    },
    "tags": []
   },
   "outputs": [
    {
     "name": "stdout",
     "output_type": "stream",
     "text": [
      "Epoch 1/6\n"
     ]
    },
    {
     "name": "stderr",
     "output_type": "stream",
     "text": [
      "2022-12-19 08:23:57.360928: I tensorflow/compiler/mlir/mlir_graph_optimization_pass.cc:185] None of the MLIR Optimization Passes are enabled (registered 2)\n"
     ]
    },
    {
     "name": "stdout",
     "output_type": "stream",
     "text": [
      "654/654 [==============================] - 4s 4ms/step - loss: 0.7103 - acc: 0.6113 - val_loss: 0.6933 - val_acc: 0.5001\n",
      "Epoch 2/6\n",
      "654/654 [==============================] - 3s 4ms/step - loss: 0.6933 - acc: 0.4991 - val_loss: 0.6933 - val_acc: 0.5001\n",
      "Epoch 3/6\n",
      "654/654 [==============================] - 3s 4ms/step - loss: 0.6933 - acc: 0.5003 - val_loss: 0.6933 - val_acc: 0.5001\n",
      "Epoch 4/6\n",
      "654/654 [==============================] - 3s 4ms/step - loss: 0.6819 - acc: 0.6816 - val_loss: 0.6496 - val_acc: 0.9831\n",
      "Epoch 5/6\n",
      "654/654 [==============================] - 3s 4ms/step - loss: 0.5714 - acc: 0.9892 - val_loss: 0.4716 - val_acc: 0.9884\n",
      "Epoch 6/6\n",
      "654/654 [==============================] - 3s 4ms/step - loss: 0.3902 - acc: 0.9935 - val_loss: 0.3232 - val_acc: 0.9957\n"
     ]
    }
   ],
   "source": [
    "history = model.fit(X_train, y_train, batch_size=128, epochs=6, verbose=1, validation_split=0.2)"
   ]
  },
  {
   "cell_type": "code",
   "execution_count": 22,
   "id": "91ee7613",
   "metadata": {
    "execution": {
     "iopub.execute_input": "2022-12-19T08:24:14.349990Z",
     "iopub.status.busy": "2022-12-19T08:24:14.349043Z",
     "iopub.status.idle": "2022-12-19T08:24:15.647792Z",
     "shell.execute_reply": "2022-12-19T08:24:15.646592Z"
    },
    "papermill": {
     "duration": 1.337051,
     "end_time": "2022-12-19T08:24:15.649975",
     "exception": false,
     "start_time": "2022-12-19T08:24:14.312924",
     "status": "completed"
    },
    "tags": []
   },
   "outputs": [
    {
     "name": "stdout",
     "output_type": "stream",
     "text": [
      "1089/1089 [==============================] - 1s 1ms/step - loss: 0.3244 - acc: 0.9954\n",
      "Test Score: 0.3243597447872162\n",
      "Test Accuracy: 0.9954083561897278\n"
     ]
    }
   ],
   "source": [
    "score = model.evaluate(X_test, y_test, verbose=1)\n",
    "print(\"Test Score:\", score[0])\n",
    "print(\"Test Accuracy:\", score[1])"
   ]
  },
  {
   "cell_type": "code",
   "execution_count": 23,
   "id": "fdefde35",
   "metadata": {
    "execution": {
     "iopub.execute_input": "2022-12-19T08:24:15.717552Z",
     "iopub.status.busy": "2022-12-19T08:24:15.717137Z",
     "iopub.status.idle": "2022-12-19T08:24:16.132841Z",
     "shell.execute_reply": "2022-12-19T08:24:16.131753Z"
    },
    "papermill": {
     "duration": 0.452571,
     "end_time": "2022-12-19T08:24:16.135345",
     "exception": false,
     "start_time": "2022-12-19T08:24:15.682774",
     "status": "completed"
    },
    "tags": []
   },
   "outputs": [
    {
     "data": {
      "image/png": "[encoded data removed]",
      "text/plain": [
       "<Figure size 432x288 with 1 Axes>"
      ]
     },
     "metadata": {
      "needs_background": "light"
     },
     "output_type": "display_data"
    },
    {
     "data": {
      "image/png": "[encoded data removed]",
      "text/plain": [
       "<Figure size 432x288 with 1 Axes>"
      ]
     },
     "metadata": {
      "needs_background": "light"
     },
     "output_type": "display_data"
    }
   ],
   "source": [
    "import matplotlib.pyplot as plt\n",
    "\n",
    "plt.plot(history.history['acc'])\n",
    "plt.plot(history.history['val_acc'])\n",
    "\n",
    "plt.title('model accuracy')\n",
    "plt.ylabel('accuracy')\n",
    "plt.xlabel('epoch')\n",
    "plt.legend(['train','test'], loc='upper left')\n",
    "plt.show()\n",
    "\n",
    "plt.plot(history.history['loss'])\n",
    "plt.plot(history.history['val_loss'])\n",
    "\n",
    "plt.title('model loss')\n",
    "plt.ylabel('loss')\n",
    "plt.xlabel('epoch')\n",
    "plt.legend(['train','test'], loc='upper left')\n",
    "plt.show()"
   ]
  },
  {
   "cell_type": "code",
   "execution_count": 24,
   "id": "c7deec50",
   "metadata": {
    "execution": {
     "iopub.execute_input": "2022-12-19T08:24:16.205324Z",
     "iopub.status.busy": "2022-12-19T08:24:16.204499Z",
     "iopub.status.idle": "2022-12-19T08:24:18.437332Z",
     "shell.execute_reply": "2022-12-19T08:24:18.436162Z"
    },
    "papermill": {
     "duration": 2.270273,
     "end_time": "2022-12-19T08:24:18.439604",
     "exception": false,
     "start_time": "2022-12-19T08:24:16.169331",
     "status": "completed"
    },
    "tags": []
   },
   "outputs": [
    {
     "data": {
      "text/html": [
       "<div>\n",
       "<style scoped>\n",
       "    .dataframe tbody tr th:only-of-type {\n",
       "        vertical-align: middle;\n",
       "    }\n",
       "\n",
       "    .dataframe tbody tr th {\n",
       "        vertical-align: top;\n",
       "    }\n",
       "\n",
       "    .dataframe thead th {\n",
       "        text-align: right;\n",
       "    }\n",
       "</style>\n",
       "<table border=\"1\" class=\"dataframe\">\n",
       "  <thead>\n",
       "    <tr style=\"text-align: right;\">\n",
       "      <th></th>\n",
       "      <th>ID</th>\n",
       "      <th>Log</th>\n",
       "    </tr>\n",
       "  </thead>\n",
       "  <tbody>\n",
       "    <tr>\n",
       "      <th>0</th>\n",
       "      <td>0</td>\n",
       "      <td>1124336301 2005.08.17 R13-M1-N8-C:J12-U01 200...</td>\n",
       "    </tr>\n",
       "    <tr>\n",
       "      <th>1</th>\n",
       "      <td>1</td>\n",
       "      <td>1118553175 2005.06.11 R30-M0-N9-C:J16-U01 200...</td>\n",
       "    </tr>\n",
       "    <tr>\n",
       "      <th>2</th>\n",
       "      <td>2</td>\n",
       "      <td>1118536033 2005.06.11 R30-M0-N9-C:J16-U01 200...</td>\n",
       "    </tr>\n",
       "    <tr>\n",
       "      <th>3</th>\n",
       "      <td>3</td>\n",
       "      <td>1117992566 2005.06.05 R30-M1-N6-C:J03-U11 200...</td>\n",
       "    </tr>\n",
       "    <tr>\n",
       "      <th>4</th>\n",
       "      <td>4</td>\n",
       "      <td>1118538965 2005.06.11 R30-M0-N9-C:J16-U01 200...</td>\n",
       "    </tr>\n",
       "    <tr>\n",
       "      <th>...</th>\n",
       "      <td>...</td>\n",
       "      <td>...</td>\n",
       "    </tr>\n",
       "    <tr>\n",
       "      <th>595295</th>\n",
       "      <td>595295</td>\n",
       "      <td>1118768234 2005.06.14 R20-M0-NA-C:J17-U11 200...</td>\n",
       "    </tr>\n",
       "    <tr>\n",
       "      <th>595296</th>\n",
       "      <td>595296</td>\n",
       "      <td>1118370947 2005.06.09 R15-M0-NA-C:J02-U01 200...</td>\n",
       "    </tr>\n",
       "    <tr>\n",
       "      <th>595297</th>\n",
       "      <td>595297</td>\n",
       "      <td>1118540242 2005.06.11 R30-M0-N9-C:J16-U01 200...</td>\n",
       "    </tr>\n",
       "    <tr>\n",
       "      <th>595298</th>\n",
       "      <td>595298</td>\n",
       "      <td>1118538947 2005.06.11 R30-M0-N9-C:J16-U01 200...</td>\n",
       "    </tr>\n",
       "    <tr>\n",
       "      <th>595299</th>\n",
       "      <td>595299</td>\n",
       "      <td>1118165805 2005.06.07 R23-M1-N5-C:J16-U11 200...</td>\n",
       "    </tr>\n",
       "  </tbody>\n",
       "</table>\n",
       "<p>595300 rows × 2 columns</p>\n",
       "</div>"
      ],
      "text/plain": [
       "            ID                                                Log\n",
       "0            0   1124336301 2005.08.17 R13-M1-N8-C:J12-U01 200...\n",
       "1            1   1118553175 2005.06.11 R30-M0-N9-C:J16-U01 200...\n",
       "2            2   1118536033 2005.06.11 R30-M0-N9-C:J16-U01 200...\n",
       "3            3   1117992566 2005.06.05 R30-M1-N6-C:J03-U11 200...\n",
       "4            4   1118538965 2005.06.11 R30-M0-N9-C:J16-U01 200...\n",
       "...        ...                                                ...\n",
       "595295  595295   1118768234 2005.06.14 R20-M0-NA-C:J17-U11 200...\n",
       "595296  595296   1118370947 2005.06.09 R15-M0-NA-C:J02-U01 200...\n",
       "595297  595297   1118540242 2005.06.11 R30-M0-N9-C:J16-U01 200...\n",
       "595298  595298   1118538947 2005.06.11 R30-M0-N9-C:J16-U01 200...\n",
       "595299  595299   1118165805 2005.06.07 R23-M1-N5-C:J16-U11 200...\n",
       "\n",
       "[595300 rows x 2 columns]"
      ]
     },
     "execution_count": 24,
     "metadata": {},
     "output_type": "execute_result"
    }
   ],
   "source": [
    "test_data = pd.read_csv('/kaggle/input/convolve-epoch1/test.csv')\n",
    "test_data"
   ]
  },
  {
   "cell_type": "code",
   "execution_count": 25,
   "id": "5bf68946",
   "metadata": {
    "execution": {
     "iopub.execute_input": "2022-12-19T08:24:18.510399Z",
     "iopub.status.busy": "2022-12-19T08:24:18.509349Z",
     "iopub.status.idle": "2022-12-19T08:24:18.535193Z",
     "shell.execute_reply": "2022-12-19T08:24:18.534124Z"
    },
    "papermill": {
     "duration": 0.063474,
     "end_time": "2022-12-19T08:24:18.537585",
     "exception": false,
     "start_time": "2022-12-19T08:24:18.474111",
     "status": "completed"
    },
    "tags": []
   },
   "outputs": [
    {
     "data": {
      "text/plain": [
       "(595300, 1)"
      ]
     },
     "execution_count": 25,
     "metadata": {},
     "output_type": "execute_result"
    }
   ],
   "source": [
    "X_test_real = test_data.drop(['ID'], axis = 1)\n",
    "X_test_real.shape"
   ]
  },
  {
   "cell_type": "code",
   "execution_count": 26,
   "id": "136aebf5",
   "metadata": {
    "execution": {
     "iopub.execute_input": "2022-12-19T08:24:18.607406Z",
     "iopub.status.busy": "2022-12-19T08:24:18.607002Z",
     "iopub.status.idle": "2022-12-19T08:24:38.424959Z",
     "shell.execute_reply": "2022-12-19T08:24:38.423923Z"
    },
    "papermill": {
     "duration": 19.856141,
     "end_time": "2022-12-19T08:24:38.427677",
     "exception": false,
     "start_time": "2022-12-19T08:24:18.571536",
     "status": "completed"
    },
    "tags": []
   },
   "outputs": [],
   "source": [
    "X_test_real[' Log'] = X_test_real[' Log'].apply(preprocess_text)"
   ]
  },
  {
   "cell_type": "code",
   "execution_count": 27,
   "id": "c0e99267",
   "metadata": {
    "execution": {
     "iopub.execute_input": "2022-12-19T08:24:38.498141Z",
     "iopub.status.busy": "2022-12-19T08:24:38.497741Z",
     "iopub.status.idle": "2022-12-19T08:24:38.504313Z",
     "shell.execute_reply": "2022-12-19T08:24:38.503243Z"
    },
    "papermill": {
     "duration": 0.044425,
     "end_time": "2022-12-19T08:24:38.506648",
     "exception": false,
     "start_time": "2022-12-19T08:24:38.462223",
     "status": "completed"
    },
    "tags": []
   },
   "outputs": [
    {
     "data": {
      "text/plain": [
       "(595300, 1)"
      ]
     },
     "execution_count": 27,
     "metadata": {},
     "output_type": "execute_result"
    }
   ],
   "source": [
    "X_test_real.shape"
   ]
  },
  {
   "cell_type": "code",
   "execution_count": 28,
   "id": "cb7ecee6",
   "metadata": {
    "execution": {
     "iopub.execute_input": "2022-12-19T08:24:38.577573Z",
     "iopub.status.busy": "2022-12-19T08:24:38.577155Z",
     "iopub.status.idle": "2022-12-19T08:24:38.644252Z",
     "shell.execute_reply": "2022-12-19T08:24:38.643131Z"
    },
    "papermill": {
     "duration": 0.105402,
     "end_time": "2022-12-19T08:24:38.646639",
     "exception": false,
     "start_time": "2022-12-19T08:24:38.541237",
     "status": "completed"
    },
    "tags": []
   },
   "outputs": [
    {
     "data": {
      "text/plain": [
       "595300"
      ]
     },
     "execution_count": 28,
     "metadata": {},
     "output_type": "execute_result"
    }
   ],
   "source": [
    "X_test_real = list(X_test_real[' Log'])\n",
    "len(X_test_real)"
   ]
  },
  {
   "cell_type": "code",
   "execution_count": 29,
   "id": "2ebaa911",
   "metadata": {
    "execution": {
     "iopub.execute_input": "2022-12-19T08:24:38.717189Z",
     "iopub.status.busy": "2022-12-19T08:24:38.716779Z",
     "iopub.status.idle": "2022-12-19T08:24:45.972229Z",
     "shell.execute_reply": "2022-12-19T08:24:45.971166Z"
    },
    "papermill": {
     "duration": 7.293228,
     "end_time": "2022-12-19T08:24:45.974516",
     "exception": false,
     "start_time": "2022-12-19T08:24:38.681288",
     "status": "completed"
    },
    "tags": []
   },
   "outputs": [
    {
     "data": {
      "text/plain": [
       "595300"
      ]
     },
     "execution_count": 29,
     "metadata": {},
     "output_type": "execute_result"
    }
   ],
   "source": [
    "X_test_real = tokenizer.texts_to_sequences(X_test_real)\n",
    "len(X_test_real)"
   ]
  },
  {
   "cell_type": "code",
   "execution_count": 30,
   "id": "97f0940a",
   "metadata": {
    "execution": {
     "iopub.execute_input": "2022-12-19T08:24:46.044887Z",
     "iopub.status.busy": "2022-12-19T08:24:46.044512Z",
     "iopub.status.idle": "2022-12-19T08:24:47.803150Z",
     "shell.execute_reply": "2022-12-19T08:24:47.801938Z"
    },
    "papermill": {
     "duration": 1.797146,
     "end_time": "2022-12-19T08:24:47.805979",
     "exception": false,
     "start_time": "2022-12-19T08:24:46.008833",
     "status": "completed"
    },
    "tags": []
   },
   "outputs": [],
   "source": [
    "X_test_real = pad_sequences(X_test_real, padding='post', maxlen=maxlen)"
   ]
  },
  {
   "cell_type": "code",
   "execution_count": 31,
   "id": "6c48bbc3",
   "metadata": {
    "execution": {
     "iopub.execute_input": "2022-12-19T08:24:47.878727Z",
     "iopub.status.busy": "2022-12-19T08:24:47.878322Z",
     "iopub.status.idle": "2022-12-19T08:24:47.885263Z",
     "shell.execute_reply": "2022-12-19T08:24:47.884146Z"
    },
    "papermill": {
     "duration": 0.046311,
     "end_time": "2022-12-19T08:24:47.887598",
     "exception": false,
     "start_time": "2022-12-19T08:24:47.841287",
     "status": "completed"
    },
    "tags": []
   },
   "outputs": [
    {
     "data": {
      "text/plain": [
       "595300"
      ]
     },
     "execution_count": 31,
     "metadata": {},
     "output_type": "execute_result"
    }
   ],
   "source": [
    "len(X_test_real)"
   ]
  },
  {
   "cell_type": "code",
   "execution_count": 32,
   "id": "26b29a90",
   "metadata": {
    "execution": {
     "iopub.execute_input": "2022-12-19T08:24:47.958523Z",
     "iopub.status.busy": "2022-12-19T08:24:47.958112Z",
     "iopub.status.idle": "2022-12-19T08:25:04.430293Z",
     "shell.execute_reply": "2022-12-19T08:25:04.428968Z"
    },
    "papermill": {
     "duration": 16.511102,
     "end_time": "2022-12-19T08:25:04.433594",
     "exception": false,
     "start_time": "2022-12-19T08:24:47.922492",
     "status": "completed"
    },
    "tags": []
   },
   "outputs": [],
   "source": [
    "y_pred = model.predict(X_test_real)"
   ]
  },
  {
   "cell_type": "markdown",
   "id": "b384940c",
   "metadata": {
    "papermill": {
     "duration": 0.034542,
     "end_time": "2022-12-19T08:25:04.502959",
     "exception": false,
     "start_time": "2022-12-19T08:25:04.468417",
     "status": "completed"
    },
    "tags": []
   },
   "source": []
  },
  {
   "cell_type": "code",
   "execution_count": 33,
   "id": "3fc83911",
   "metadata": {
    "execution": {
     "iopub.execute_input": "2022-12-19T08:25:04.573572Z",
     "iopub.status.busy": "2022-12-19T08:25:04.573199Z",
     "iopub.status.idle": "2022-12-19T08:25:04.580646Z",
     "shell.execute_reply": "2022-12-19T08:25:04.579505Z"
    },
    "papermill": {
     "duration": 0.045517,
     "end_time": "2022-12-19T08:25:04.583000",
     "exception": false,
     "start_time": "2022-12-19T08:25:04.537483",
     "status": "completed"
    },
    "tags": []
   },
   "outputs": [
    {
     "data": {
      "text/plain": [
       "array([[0.5702947 ],\n",
       "       [0.23056754],\n",
       "       [0.23056754],\n",
       "       ...,\n",
       "       [0.23056754],\n",
       "       [0.23056754],\n",
       "       [0.7371672 ]], dtype=float32)"
      ]
     },
     "execution_count": 33,
     "metadata": {},
     "output_type": "execute_result"
    }
   ],
   "source": [
    "y_pred"
   ]
  },
  {
   "cell_type": "code",
   "execution_count": 34,
   "id": "557bfb31",
   "metadata": {
    "execution": {
     "iopub.execute_input": "2022-12-19T08:25:04.654244Z",
     "iopub.status.busy": "2022-12-19T08:25:04.653831Z",
     "iopub.status.idle": "2022-12-19T08:25:04.658801Z",
     "shell.execute_reply": "2022-12-19T08:25:04.657979Z"
    },
    "papermill": {
     "duration": 0.04319,
     "end_time": "2022-12-19T08:25:04.661039",
     "exception": false,
     "start_time": "2022-12-19T08:25:04.617849",
     "status": "completed"
    },
    "tags": []
   },
   "outputs": [],
   "source": [
    "y_classes = y_pred > 0.5"
   ]
  },
  {
   "cell_type": "code",
   "execution_count": 35,
   "id": "44b1e79f",
   "metadata": {
    "execution": {
     "iopub.execute_input": "2022-12-19T08:25:04.732215Z",
     "iopub.status.busy": "2022-12-19T08:25:04.731385Z",
     "iopub.status.idle": "2022-12-19T08:25:04.738932Z",
     "shell.execute_reply": "2022-12-19T08:25:04.737834Z"
    },
    "papermill": {
     "duration": 0.045456,
     "end_time": "2022-12-19T08:25:04.741127",
     "exception": false,
     "start_time": "2022-12-19T08:25:04.695671",
     "status": "completed"
    },
    "tags": []
   },
   "outputs": [
    {
     "data": {
      "text/plain": [
       "array([[ True],\n",
       "       [False],\n",
       "       [False],\n",
       "       ...,\n",
       "       [False],\n",
       "       [False],\n",
       "       [ True]])"
      ]
     },
     "execution_count": 35,
     "metadata": {},
     "output_type": "execute_result"
    }
   ],
   "source": [
    "y_classes"
   ]
  },
  {
   "cell_type": "code",
   "execution_count": 36,
   "id": "6a48282e",
   "metadata": {
    "execution": {
     "iopub.execute_input": "2022-12-19T08:25:04.813247Z",
     "iopub.status.busy": "2022-12-19T08:25:04.812321Z",
     "iopub.status.idle": "2022-12-19T08:25:04.825272Z",
     "shell.execute_reply": "2022-12-19T08:25:04.824106Z"
    },
    "papermill": {
     "duration": 0.051382,
     "end_time": "2022-12-19T08:25:04.827695",
     "exception": false,
     "start_time": "2022-12-19T08:25:04.776313",
     "status": "completed"
    },
    "tags": []
   },
   "outputs": [
    {
     "data": {
      "text/html": [
       "<div>\n",
       "<style scoped>\n",
       "    .dataframe tbody tr th:only-of-type {\n",
       "        vertical-align: middle;\n",
       "    }\n",
       "\n",
       "    .dataframe tbody tr th {\n",
       "        vertical-align: top;\n",
       "    }\n",
       "\n",
       "    .dataframe thead th {\n",
       "        text-align: right;\n",
       "    }\n",
       "</style>\n",
       "<table border=\"1\" class=\"dataframe\">\n",
       "  <thead>\n",
       "    <tr style=\"text-align: right;\">\n",
       "      <th></th>\n",
       "      <th>ID</th>\n",
       "      <th>Log</th>\n",
       "    </tr>\n",
       "  </thead>\n",
       "  <tbody>\n",
       "    <tr>\n",
       "      <th>0</th>\n",
       "      <td>0</td>\n",
       "      <td>1124336301 2005.08.17 R13-M1-N8-C:J12-U01 200...</td>\n",
       "    </tr>\n",
       "    <tr>\n",
       "      <th>1</th>\n",
       "      <td>1</td>\n",
       "      <td>1118553175 2005.06.11 R30-M0-N9-C:J16-U01 200...</td>\n",
       "    </tr>\n",
       "    <tr>\n",
       "      <th>2</th>\n",
       "      <td>2</td>\n",
       "      <td>1118536033 2005.06.11 R30-M0-N9-C:J16-U01 200...</td>\n",
       "    </tr>\n",
       "    <tr>\n",
       "      <th>3</th>\n",
       "      <td>3</td>\n",
       "      <td>1117992566 2005.06.05 R30-M1-N6-C:J03-U11 200...</td>\n",
       "    </tr>\n",
       "    <tr>\n",
       "      <th>4</th>\n",
       "      <td>4</td>\n",
       "      <td>1118538965 2005.06.11 R30-M0-N9-C:J16-U01 200...</td>\n",
       "    </tr>\n",
       "    <tr>\n",
       "      <th>...</th>\n",
       "      <td>...</td>\n",
       "      <td>...</td>\n",
       "    </tr>\n",
       "    <tr>\n",
       "      <th>595295</th>\n",
       "      <td>595295</td>\n",
       "      <td>1118768234 2005.06.14 R20-M0-NA-C:J17-U11 200...</td>\n",
       "    </tr>\n",
       "    <tr>\n",
       "      <th>595296</th>\n",
       "      <td>595296</td>\n",
       "      <td>1118370947 2005.06.09 R15-M0-NA-C:J02-U01 200...</td>\n",
       "    </tr>\n",
       "    <tr>\n",
       "      <th>595297</th>\n",
       "      <td>595297</td>\n",
       "      <td>1118540242 2005.06.11 R30-M0-N9-C:J16-U01 200...</td>\n",
       "    </tr>\n",
       "    <tr>\n",
       "      <th>595298</th>\n",
       "      <td>595298</td>\n",
       "      <td>1118538947 2005.06.11 R30-M0-N9-C:J16-U01 200...</td>\n",
       "    </tr>\n",
       "    <tr>\n",
       "      <th>595299</th>\n",
       "      <td>595299</td>\n",
       "      <td>1118165805 2005.06.07 R23-M1-N5-C:J16-U11 200...</td>\n",
       "    </tr>\n",
       "  </tbody>\n",
       "</table>\n",
       "<p>595300 rows × 2 columns</p>\n",
       "</div>"
      ],
      "text/plain": [
       "            ID                                                Log\n",
       "0            0   1124336301 2005.08.17 R13-M1-N8-C:J12-U01 200...\n",
       "1            1   1118553175 2005.06.11 R30-M0-N9-C:J16-U01 200...\n",
       "2            2   1118536033 2005.06.11 R30-M0-N9-C:J16-U01 200...\n",
       "3            3   1117992566 2005.06.05 R30-M1-N6-C:J03-U11 200...\n",
       "4            4   1118538965 2005.06.11 R30-M0-N9-C:J16-U01 200...\n",
       "...        ...                                                ...\n",
       "595295  595295   1118768234 2005.06.14 R20-M0-NA-C:J17-U11 200...\n",
       "595296  595296   1118370947 2005.06.09 R15-M0-NA-C:J02-U01 200...\n",
       "595297  595297   1118540242 2005.06.11 R30-M0-N9-C:J16-U01 200...\n",
       "595298  595298   1118538947 2005.06.11 R30-M0-N9-C:J16-U01 200...\n",
       "595299  595299   1118165805 2005.06.07 R23-M1-N5-C:J16-U11 200...\n",
       "\n",
       "[595300 rows x 2 columns]"
      ]
     },
     "execution_count": 36,
     "metadata": {},
     "output_type": "execute_result"
    }
   ],
   "source": [
    "test_data"
   ]
  },
  {
   "cell_type": "code",
   "execution_count": 37,
   "id": "d89a93e2",
   "metadata": {
    "execution": {
     "iopub.execute_input": "2022-12-19T08:25:04.899313Z",
     "iopub.status.busy": "2022-12-19T08:25:04.898893Z",
     "iopub.status.idle": "2022-12-19T08:25:04.908611Z",
     "shell.execute_reply": "2022-12-19T08:25:04.907523Z"
    },
    "papermill": {
     "duration": 0.048488,
     "end_time": "2022-12-19T08:25:04.911045",
     "exception": false,
     "start_time": "2022-12-19T08:25:04.862557",
     "status": "completed"
    },
    "tags": []
   },
   "outputs": [
    {
     "data": {
      "text/html": [
       "<div>\n",
       "<style scoped>\n",
       "    .dataframe tbody tr th:only-of-type {\n",
       "        vertical-align: middle;\n",
       "    }\n",
       "\n",
       "    .dataframe tbody tr th {\n",
       "        vertical-align: top;\n",
       "    }\n",
       "\n",
       "    .dataframe thead th {\n",
       "        text-align: right;\n",
       "    }\n",
       "</style>\n",
       "<table border=\"1\" class=\"dataframe\">\n",
       "  <thead>\n",
       "    <tr style=\"text-align: right;\">\n",
       "      <th></th>\n",
       "      <th>Logs</th>\n",
       "      <th>y</th>\n",
       "    </tr>\n",
       "  </thead>\n",
       "  <tbody>\n",
       "    <tr>\n",
       "      <th>4152654</th>\n",
       "      <td>1118545530 2005.06.11 R30-M0-N9-C:J16-U01 2005...</td>\n",
       "      <td>0</td>\n",
       "    </tr>\n",
       "    <tr>\n",
       "      <th>4152655</th>\n",
       "      <td>1118545530 2005.06.11 R30-M0-N9-C:J16-U01 2005...</td>\n",
       "      <td>0</td>\n",
       "    </tr>\n",
       "    <tr>\n",
       "      <th>4152656</th>\n",
       "      <td>1118545530 2005.06.11 R30-M0-N9-C:J16-U01 2005...</td>\n",
       "      <td>0</td>\n",
       "    </tr>\n",
       "    <tr>\n",
       "      <th>4152657</th>\n",
       "      <td>1118545530 2005.06.11 R30-M0-N9-C:J16-U01 2005...</td>\n",
       "      <td>0</td>\n",
       "    </tr>\n",
       "    <tr>\n",
       "      <th>4152658</th>\n",
       "      <td>1118545530 2005.06.11 R30-M0-N9-C:J16-U01 2005...</td>\n",
       "      <td>0</td>\n",
       "    </tr>\n",
       "  </tbody>\n",
       "</table>\n",
       "</div>"
      ],
      "text/plain": [
       "                                                      Logs  y\n",
       "4152654  1118545530 2005.06.11 R30-M0-N9-C:J16-U01 2005...  0\n",
       "4152655  1118545530 2005.06.11 R30-M0-N9-C:J16-U01 2005...  0\n",
       "4152656  1118545530 2005.06.11 R30-M0-N9-C:J16-U01 2005...  0\n",
       "4152657  1118545530 2005.06.11 R30-M0-N9-C:J16-U01 2005...  0\n",
       "4152658  1118545530 2005.06.11 R30-M0-N9-C:J16-U01 2005...  0"
      ]
     },
     "execution_count": 37,
     "metadata": {},
     "output_type": "execute_result"
    }
   ],
   "source": [
    "raw_data.tail()"
   ]
  },
  {
   "cell_type": "code",
   "execution_count": 38,
   "id": "a066adab",
   "metadata": {
    "execution": {
     "iopub.execute_input": "2022-12-19T08:25:04.983160Z",
     "iopub.status.busy": "2022-12-19T08:25:04.982751Z",
     "iopub.status.idle": "2022-12-19T08:25:05.096246Z",
     "shell.execute_reply": "2022-12-19T08:25:05.095164Z"
    },
    "papermill": {
     "duration": 0.152874,
     "end_time": "2022-12-19T08:25:05.099124",
     "exception": false,
     "start_time": "2022-12-19T08:25:04.946250",
     "status": "completed"
    },
    "tags": []
   },
   "outputs": [
    {
     "data": {
      "text/html": [
       "<div>\n",
       "<style scoped>\n",
       "    .dataframe tbody tr th:only-of-type {\n",
       "        vertical-align: middle;\n",
       "    }\n",
       "\n",
       "    .dataframe tbody tr th {\n",
       "        vertical-align: top;\n",
       "    }\n",
       "\n",
       "    .dataframe thead th {\n",
       "        text-align: right;\n",
       "    }\n",
       "</style>\n",
       "<table border=\"1\" class=\"dataframe\">\n",
       "  <thead>\n",
       "    <tr style=\"text-align: right;\">\n",
       "      <th></th>\n",
       "      <th>ID</th>\n",
       "      <th>Log</th>\n",
       "      <th>Label</th>\n",
       "    </tr>\n",
       "  </thead>\n",
       "  <tbody>\n",
       "    <tr>\n",
       "      <th>0</th>\n",
       "      <td>0</td>\n",
       "      <td>1124336301 2005.08.17 R13-M1-N8-C:J12-U01 200...</td>\n",
       "      <td>normal</td>\n",
       "    </tr>\n",
       "    <tr>\n",
       "      <th>1</th>\n",
       "      <td>1</td>\n",
       "      <td>1118553175 2005.06.11 R30-M0-N9-C:J16-U01 200...</td>\n",
       "      <td>abnormal</td>\n",
       "    </tr>\n",
       "    <tr>\n",
       "      <th>2</th>\n",
       "      <td>2</td>\n",
       "      <td>1118536033 2005.06.11 R30-M0-N9-C:J16-U01 200...</td>\n",
       "      <td>abnormal</td>\n",
       "    </tr>\n",
       "    <tr>\n",
       "      <th>3</th>\n",
       "      <td>3</td>\n",
       "      <td>1117992566 2005.06.05 R30-M1-N6-C:J03-U11 200...</td>\n",
       "      <td>normal</td>\n",
       "    </tr>\n",
       "    <tr>\n",
       "      <th>4</th>\n",
       "      <td>4</td>\n",
       "      <td>1118538965 2005.06.11 R30-M0-N9-C:J16-U01 200...</td>\n",
       "      <td>abnormal</td>\n",
       "    </tr>\n",
       "    <tr>\n",
       "      <th>...</th>\n",
       "      <td>...</td>\n",
       "      <td>...</td>\n",
       "      <td>...</td>\n",
       "    </tr>\n",
       "    <tr>\n",
       "      <th>595295</th>\n",
       "      <td>595295</td>\n",
       "      <td>1118768234 2005.06.14 R20-M0-NA-C:J17-U11 200...</td>\n",
       "      <td>normal</td>\n",
       "    </tr>\n",
       "    <tr>\n",
       "      <th>595296</th>\n",
       "      <td>595296</td>\n",
       "      <td>1118370947 2005.06.09 R15-M0-NA-C:J02-U01 200...</td>\n",
       "      <td>normal</td>\n",
       "    </tr>\n",
       "    <tr>\n",
       "      <th>595297</th>\n",
       "      <td>595297</td>\n",
       "      <td>1118540242 2005.06.11 R30-M0-N9-C:J16-U01 200...</td>\n",
       "      <td>abnormal</td>\n",
       "    </tr>\n",
       "    <tr>\n",
       "      <th>595298</th>\n",
       "      <td>595298</td>\n",
       "      <td>1118538947 2005.06.11 R30-M0-N9-C:J16-U01 200...</td>\n",
       "      <td>abnormal</td>\n",
       "    </tr>\n",
       "    <tr>\n",
       "      <th>595299</th>\n",
       "      <td>595299</td>\n",
       "      <td>1118165805 2005.06.07 R23-M1-N5-C:J16-U11 200...</td>\n",
       "      <td>normal</td>\n",
       "    </tr>\n",
       "  </tbody>\n",
       "</table>\n",
       "<p>595300 rows × 3 columns</p>\n",
       "</div>"
      ],
      "text/plain": [
       "            ID                                                Log     Label\n",
       "0            0   1124336301 2005.08.17 R13-M1-N8-C:J12-U01 200...    normal\n",
       "1            1   1118553175 2005.06.11 R30-M0-N9-C:J16-U01 200...  abnormal\n",
       "2            2   1118536033 2005.06.11 R30-M0-N9-C:J16-U01 200...  abnormal\n",
       "3            3   1117992566 2005.06.05 R30-M1-N6-C:J03-U11 200...    normal\n",
       "4            4   1118538965 2005.06.11 R30-M0-N9-C:J16-U01 200...  abnormal\n",
       "...        ...                                                ...       ...\n",
       "595295  595295   1118768234 2005.06.14 R20-M0-NA-C:J17-U11 200...    normal\n",
       "595296  595296   1118370947 2005.06.09 R15-M0-NA-C:J02-U01 200...    normal\n",
       "595297  595297   1118540242 2005.06.11 R30-M0-N9-C:J16-U01 200...  abnormal\n",
       "595298  595298   1118538947 2005.06.11 R30-M0-N9-C:J16-U01 200...  abnormal\n",
       "595299  595299   1118165805 2005.06.07 R23-M1-N5-C:J16-U11 200...    normal\n",
       "\n",
       "[595300 rows x 3 columns]"
      ]
     },
     "execution_count": 38,
     "metadata": {},
     "output_type": "execute_result"
    }
   ],
   "source": [
    "test_data[\" Label\"] = np.select([y_classes], [\"normal\"], default=\"abnormal\")\n",
    "test_data"
   ]
  },
  {
   "cell_type": "code",
   "execution_count": 39,
   "id": "e9838cd4",
   "metadata": {
    "execution": {
     "iopub.execute_input": "2022-12-19T08:25:05.171878Z",
     "iopub.status.busy": "2022-12-19T08:25:05.171213Z",
     "iopub.status.idle": "2022-12-19T08:25:05.177814Z",
     "shell.execute_reply": "2022-12-19T08:25:05.176689Z"
    },
    "papermill": {
     "duration": 0.045703,
     "end_time": "2022-12-19T08:25:05.180303",
     "exception": false,
     "start_time": "2022-12-19T08:25:05.134600",
     "status": "completed"
    },
    "tags": []
   },
   "outputs": [
    {
     "data": {
      "text/plain": [
       "595300"
      ]
     },
     "execution_count": 39,
     "metadata": {},
     "output_type": "execute_result"
    }
   ],
   "source": [
    "len(y_classes)"
   ]
  },
  {
   "cell_type": "code",
   "execution_count": 40,
   "id": "a73ceedd",
   "metadata": {
    "execution": {
     "iopub.execute_input": "2022-12-19T08:25:05.252540Z",
     "iopub.status.busy": "2022-12-19T08:25:05.252165Z",
     "iopub.status.idle": "2022-12-19T08:25:05.257822Z",
     "shell.execute_reply": "2022-12-19T08:25:05.257021Z"
    },
    "papermill": {
     "duration": 0.044357,
     "end_time": "2022-12-19T08:25:05.260031",
     "exception": false,
     "start_time": "2022-12-19T08:25:05.215674",
     "status": "completed"
    },
    "tags": []
   },
   "outputs": [
    {
     "data": {
      "text/plain": [
       "595300"
      ]
     },
     "execution_count": 40,
     "metadata": {},
     "output_type": "execute_result"
    }
   ],
   "source": [
    "len(test_data)"
   ]
  },
  {
   "cell_type": "code",
   "execution_count": 41,
   "id": "5b16e60d",
   "metadata": {
    "execution": {
     "iopub.execute_input": "2022-12-19T08:25:05.332832Z",
     "iopub.status.busy": "2022-12-19T08:25:05.332457Z",
     "iopub.status.idle": "2022-12-19T08:25:05.338933Z",
     "shell.execute_reply": "2022-12-19T08:25:05.337800Z"
    },
    "papermill": {
     "duration": 0.045761,
     "end_time": "2022-12-19T08:25:05.341507",
     "exception": false,
     "start_time": "2022-12-19T08:25:05.295746",
     "status": "completed"
    },
    "tags": []
   },
   "outputs": [
    {
     "data": {
      "text/plain": [
       "(595300, 100)"
      ]
     },
     "execution_count": 41,
     "metadata": {},
     "output_type": "execute_result"
    }
   ],
   "source": [
    "X_test_real.shape"
   ]
  },
  {
   "cell_type": "code",
   "execution_count": 42,
   "id": "8c8bcd14",
   "metadata": {
    "execution": {
     "iopub.execute_input": "2022-12-19T08:25:05.416173Z",
     "iopub.status.busy": "2022-12-19T08:25:05.415102Z",
     "iopub.status.idle": "2022-12-19T08:25:05.421940Z",
     "shell.execute_reply": "2022-12-19T08:25:05.420861Z"
    },
    "papermill": {
     "duration": 0.046522,
     "end_time": "2022-12-19T08:25:05.424123",
     "exception": false,
     "start_time": "2022-12-19T08:25:05.377601",
     "status": "completed"
    },
    "tags": []
   },
   "outputs": [
    {
     "data": {
      "text/plain": [
       "(104538, 100)"
      ]
     },
     "execution_count": 42,
     "metadata": {},
     "output_type": "execute_result"
    }
   ],
   "source": [
    "X_train.shape"
   ]
  },
  {
   "cell_type": "code",
   "execution_count": 43,
   "id": "2cc0dcee",
   "metadata": {
    "execution": {
     "iopub.execute_input": "2022-12-19T08:25:05.497200Z",
     "iopub.status.busy": "2022-12-19T08:25:05.496815Z",
     "iopub.status.idle": "2022-12-19T08:25:05.503098Z",
     "shell.execute_reply": "2022-12-19T08:25:05.502249Z"
    },
    "papermill": {
     "duration": 0.04545,
     "end_time": "2022-12-19T08:25:05.505158",
     "exception": false,
     "start_time": "2022-12-19T08:25:05.459708",
     "status": "completed"
    },
    "tags": []
   },
   "outputs": [
    {
     "data": {
      "text/plain": [
       "(104538,)"
      ]
     },
     "execution_count": 43,
     "metadata": {},
     "output_type": "execute_result"
    }
   ],
   "source": [
    "y_train.shape"
   ]
  },
  {
   "cell_type": "code",
   "execution_count": 44,
   "id": "4ef31d0c",
   "metadata": {
    "execution": {
     "iopub.execute_input": "2022-12-19T08:25:05.578541Z",
     "iopub.status.busy": "2022-12-19T08:25:05.578120Z",
     "iopub.status.idle": "2022-12-19T08:25:05.650158Z",
     "shell.execute_reply": "2022-12-19T08:25:05.649132Z"
    },
    "papermill": {
     "duration": 0.111308,
     "end_time": "2022-12-19T08:25:05.652441",
     "exception": false,
     "start_time": "2022-12-19T08:25:05.541133",
     "status": "completed"
    },
    "tags": []
   },
   "outputs": [
    {
     "data": {
      "text/html": [
       "<div>\n",
       "<style scoped>\n",
       "    .dataframe tbody tr th:only-of-type {\n",
       "        vertical-align: middle;\n",
       "    }\n",
       "\n",
       "    .dataframe tbody tr th {\n",
       "        vertical-align: top;\n",
       "    }\n",
       "\n",
       "    .dataframe thead th {\n",
       "        text-align: right;\n",
       "    }\n",
       "</style>\n",
       "<table border=\"1\" class=\"dataframe\">\n",
       "  <thead>\n",
       "    <tr style=\"text-align: right;\">\n",
       "      <th></th>\n",
       "      <th>ID</th>\n",
       "      <th>Label</th>\n",
       "    </tr>\n",
       "  </thead>\n",
       "  <tbody>\n",
       "    <tr>\n",
       "      <th>0</th>\n",
       "      <td>0</td>\n",
       "      <td>normal</td>\n",
       "    </tr>\n",
       "    <tr>\n",
       "      <th>1</th>\n",
       "      <td>1</td>\n",
       "      <td>abnormal</td>\n",
       "    </tr>\n",
       "    <tr>\n",
       "      <th>2</th>\n",
       "      <td>2</td>\n",
       "      <td>abnormal</td>\n",
       "    </tr>\n",
       "    <tr>\n",
       "      <th>3</th>\n",
       "      <td>3</td>\n",
       "      <td>normal</td>\n",
       "    </tr>\n",
       "    <tr>\n",
       "      <th>4</th>\n",
       "      <td>4</td>\n",
       "      <td>abnormal</td>\n",
       "    </tr>\n",
       "    <tr>\n",
       "      <th>...</th>\n",
       "      <td>...</td>\n",
       "      <td>...</td>\n",
       "    </tr>\n",
       "    <tr>\n",
       "      <th>595295</th>\n",
       "      <td>595295</td>\n",
       "      <td>normal</td>\n",
       "    </tr>\n",
       "    <tr>\n",
       "      <th>595296</th>\n",
       "      <td>595296</td>\n",
       "      <td>normal</td>\n",
       "    </tr>\n",
       "    <tr>\n",
       "      <th>595297</th>\n",
       "      <td>595297</td>\n",
       "      <td>abnormal</td>\n",
       "    </tr>\n",
       "    <tr>\n",
       "      <th>595298</th>\n",
       "      <td>595298</td>\n",
       "      <td>abnormal</td>\n",
       "    </tr>\n",
       "    <tr>\n",
       "      <th>595299</th>\n",
       "      <td>595299</td>\n",
       "      <td>normal</td>\n",
       "    </tr>\n",
       "  </tbody>\n",
       "</table>\n",
       "<p>595300 rows × 2 columns</p>\n",
       "</div>"
      ],
      "text/plain": [
       "            ID     Label\n",
       "0            0    normal\n",
       "1            1  abnormal\n",
       "2            2  abnormal\n",
       "3            3    normal\n",
       "4            4  abnormal\n",
       "...        ...       ...\n",
       "595295  595295    normal\n",
       "595296  595296    normal\n",
       "595297  595297  abnormal\n",
       "595298  595298  abnormal\n",
       "595299  595299    normal\n",
       "\n",
       "[595300 rows x 2 columns]"
      ]
     },
     "execution_count": 44,
     "metadata": {},
     "output_type": "execute_result"
    }
   ],
   "source": [
    "final_submission = test_data.drop(' Log', axis=1)\n",
    "final_submission"
   ]
  },
  {
   "cell_type": "code",
   "execution_count": 45,
   "id": "67e7bf93",
   "metadata": {
    "execution": {
     "iopub.execute_input": "2022-12-19T08:25:05.726748Z",
     "iopub.status.busy": "2022-12-19T08:25:05.725993Z",
     "iopub.status.idle": "2022-12-19T08:25:09.057371Z",
     "shell.execute_reply": "2022-12-19T08:25:09.056177Z"
    },
    "papermill": {
     "duration": 3.37141,
     "end_time": "2022-12-19T08:25:09.060049",
     "exception": false,
     "start_time": "2022-12-19T08:25:05.688639",
     "status": "completed"
    },
    "tags": []
   },
   "outputs": [],
   "source": [
    "test_data.to_csv('reference_8.csv')\n",
    "final_submission.to_csv('to_be_submitted_real_8.csv', index=False)"
   ]
  },
  {
   "cell_type": "code",
   "execution_count": null,
   "id": "fc2a34f5",
   "metadata": {
    "papermill": {
     "duration": 0.037493,
     "end_time": "2022-12-19T08:25:09.133275",
     "exception": false,
     "start_time": "2022-12-19T08:25:09.095782",
     "status": "completed"
    },
    "tags": []
   },
   "outputs": [],
   "source": []
  },
  {
   "cell_type": "code",
   "execution_count": null,
   "id": "54462001",
   "metadata": {
    "papermill": {
     "duration": 0.035511,
     "end_time": "2022-12-19T08:25:09.205069",
     "exception": false,
     "start_time": "2022-12-19T08:25:09.169558",
     "status": "completed"
    },
    "tags": []
   },
   "outputs": [],
   "source": []
  },
  {
   "cell_type": "code",
   "execution_count": null,
   "id": "eabf425e",
   "metadata": {
    "papermill": {
     "duration": 0.035272,
     "end_time": "2022-12-19T08:25:09.276252",
     "exception": false,
     "start_time": "2022-12-19T08:25:09.240980",
     "status": "completed"
    },
    "tags": []
   },
   "outputs": [],
   "source": []
  }
 ],
 "metadata": {
  "kernelspec": {
   "display_name": "Python 3",
   "language": "python",
   "name": "python3"
  },
  "language_info": {
   "codemirror_mode": {
    "name": "ipython",
    "version": 3
   },
   "file_extension": ".py",
   "mimetype": "text/x-python",
   "name": "python",
   "nbconvert_exporter": "python",
   "pygments_lexer": "ipython3",
   "version": "3.7.12"
  },
  "papermill": {
   "default_parameters": {},
   "duration": 126.169438,
   "end_time": "2022-12-19T08:25:12.380426",
   "environment_variables": {},
   "exception": null,
   "input_path": "__notebook__.ipynb",
   "output_path": "__notebook__.ipynb",
   "parameters": {},
   "start_time": "2022-12-19T08:23:06.210988",
   "version": "2.3.4"
  }
 },
 "nbformat": 4,
 "nbformat_minor": 5
}
